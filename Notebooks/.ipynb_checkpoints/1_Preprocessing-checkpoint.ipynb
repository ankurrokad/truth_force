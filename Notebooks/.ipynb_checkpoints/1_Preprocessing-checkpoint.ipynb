{
 "cells": [
  {
   "cell_type": "markdown",
   "metadata": {},
   "source": [
    "# 2021W AML 2404 2 [B124] AI AND ML LAB\n",
    "\n",
    "**The Guardians**\n",
    "* Ankur Kishorbhai Rokad (C0793757)\n",
    "* Avinash Ravi (C0791941)\n",
    "* Sahista Patel (C0796681)\n",
    "* Vishal Sabarinath Venkatesan (C0801202)"
   ]
  },
  {
   "cell_type": "code",
   "execution_count": 62,
   "metadata": {
    "ExecuteTime": {
     "end_time": "2021-04-23T08:23:08.025462Z",
     "start_time": "2021-04-23T08:23:08.008432Z"
    }
   },
   "outputs": [],
   "source": [
    "import pandas as pd\n",
    "import numpy as np\n",
    "\n",
    "# Language cleaning imports\n",
    "import nltk\n",
    "from nltk.corpus import stopwords\n",
    "from nltk.stem.porter import PorterStemmer\n",
    "from nltk.stem import WordNetLemmatizer\n",
    "import re\n",
    "\n",
    "# Profiling imports\n",
    "import sweetviz as sv\n",
    "from pandas_profiling import ProfileReport\n",
    "\n",
    "# Visulization imports\n",
    "import matplotlib.pyplot as plt\n",
    "import seaborn as sns\n",
    "\n",
    "# For clean Visualization\n",
    "import warnings\n",
    "warnings.filterwarnings('ignore')"
   ]
  },
  {
   "cell_type": "markdown",
   "metadata": {},
   "source": [
    "## Importing datasets"
   ]
  },
  {
   "cell_type": "code",
   "execution_count": 5,
   "metadata": {
    "ExecuteTime": {
     "end_time": "2021-04-23T06:46:16.405495Z",
     "start_time": "2021-04-23T06:46:14.866676Z"
    }
   },
   "outputs": [],
   "source": [
    "# True news dataset from kaggle\n",
    "df_real = pd.read_csv(\"DataSet/kaggle-True.csv\", encoding='utf-8')\n",
    "\n",
    "# Fake news dataset from kaggle\n",
    "df_fake = pd.read_csv(\"DataSet/kaggle-Fake.csv\", encoding='utf-8')\n",
    "\n",
    "# Data Flair news dataset, constist of true and fake news.\n",
    "df_flair = pd.read_csv(\"DataSet/data-flair_news_set.csv\", encoding='utf-8')"
   ]
  },
  {
   "cell_type": "markdown",
   "metadata": {},
   "source": [
    "## EDA"
   ]
  },
  {
   "cell_type": "markdown",
   "metadata": {},
   "source": [
    "### Profiling"
   ]
  },
  {
   "cell_type": "markdown",
   "metadata": {},
   "source": [
    "For exploratory data analysis, we use two profiling tools that provide a comprehensive report of the data.\n",
    "* Sweetwiz Profiling\n",
    "* Pandas Profiling\n"
   ]
  },
  {
   "cell_type": "code",
   "execution_count": 3,
   "metadata": {
    "ExecuteTime": {
     "end_time": "2021-04-22T14:54:33.121044Z",
     "start_time": "2021-04-22T14:54:33.098302Z"
    }
   },
   "outputs": [],
   "source": [
    "def get_profiling(dataset, name):\n",
    "    sv_report = sv.analyze(df_real)  # Generating sweetwiz report\n",
    "    sv_report.show_html(\n",
    "        f\"Analysis/{name}_sweetviz.html\")  # Exporting sweetwiz report as .html\n",
    "\n",
    "    profiling = ProfileReport(dataset)  # Generating pandas profiling report\n",
    "    profiling.to_file(f\"Analysis/{name}_pandas_profiling.html\"\n",
    "                      )  # Exporting pandas profiling report as .html"
   ]
  },
  {
   "cell_type": "code",
   "execution_count": 4,
   "metadata": {
    "ExecuteTime": {
     "end_time": "2021-04-22T14:56:20.180280Z",
     "start_time": "2021-04-22T14:54:33.221056Z"
    }
   },
   "outputs": [
    {
     "data": {
      "application/vnd.jupyter.widget-view+json": {
       "model_id": "53d7a0da67d34ac4abe1b438857e392f",
       "version_major": 2,
       "version_minor": 0
      },
      "text/plain": [
       "HBox(children=(HTML(value=''), FloatProgress(value=0.0, layout=Layout(flex='2'), max=5.0), HTML(value='')), la…"
      ]
     },
     "metadata": {},
     "output_type": "display_data"
    },
    {
     "name": "stdout",
     "output_type": "stream",
     "text": [
      "\n",
      "Report Analysis/real_sweetviz.html was generated! NOTEBOOK/COLAB USERS: the web browser MAY not pop up, regardless, the report IS saved in your notebook/colab files.\n"
     ]
    },
    {
     "data": {
      "application/vnd.jupyter.widget-view+json": {
       "model_id": "05e25dfd26ec4437948bb3805c9123b3",
       "version_major": 2,
       "version_minor": 0
      },
      "text/plain": [
       "HBox(children=(HTML(value='Summarize dataset'), FloatProgress(value=0.0, max=17.0), HTML(value='')))"
      ]
     },
     "metadata": {},
     "output_type": "display_data"
    },
    {
     "name": "stdout",
     "output_type": "stream",
     "text": [
      "\n"
     ]
    },
    {
     "data": {
      "application/vnd.jupyter.widget-view+json": {
       "model_id": "a855dcb564cd4c8d906975acb9d07748",
       "version_major": 2,
       "version_minor": 0
      },
      "text/plain": [
       "HBox(children=(HTML(value='Generate report structure'), FloatProgress(value=0.0, max=1.0), HTML(value='')))"
      ]
     },
     "metadata": {},
     "output_type": "display_data"
    },
    {
     "name": "stdout",
     "output_type": "stream",
     "text": [
      "\n"
     ]
    },
    {
     "data": {
      "application/vnd.jupyter.widget-view+json": {
       "model_id": "32e72a68adea4abd8af3d6689fdaf574",
       "version_major": 2,
       "version_minor": 0
      },
      "text/plain": [
       "HBox(children=(HTML(value='Render HTML'), FloatProgress(value=0.0, max=1.0), HTML(value='')))"
      ]
     },
     "metadata": {},
     "output_type": "display_data"
    },
    {
     "name": "stdout",
     "output_type": "stream",
     "text": [
      "\n"
     ]
    },
    {
     "data": {
      "application/vnd.jupyter.widget-view+json": {
       "model_id": "2cd3ca4a8f094d7d8eb30a01afcdc806",
       "version_major": 2,
       "version_minor": 0
      },
      "text/plain": [
       "HBox(children=(HTML(value='Export report to file'), FloatProgress(value=0.0, max=1.0), HTML(value='')))"
      ]
     },
     "metadata": {},
     "output_type": "display_data"
    },
    {
     "name": "stdout",
     "output_type": "stream",
     "text": [
      "\n"
     ]
    },
    {
     "data": {
      "application/vnd.jupyter.widget-view+json": {
       "model_id": "0541d251d3df4903bcdcad7314ee09c8",
       "version_major": 2,
       "version_minor": 0
      },
      "text/plain": [
       "HBox(children=(HTML(value=''), FloatProgress(value=0.0, layout=Layout(flex='2'), max=5.0), HTML(value='')), la…"
      ]
     },
     "metadata": {},
     "output_type": "display_data"
    },
    {
     "name": "stdout",
     "output_type": "stream",
     "text": [
      "\n",
      "Report Analysis/fake_sweetviz.html was generated! NOTEBOOK/COLAB USERS: the web browser MAY not pop up, regardless, the report IS saved in your notebook/colab files.\n"
     ]
    },
    {
     "data": {
      "application/vnd.jupyter.widget-view+json": {
       "model_id": "e6acb2c95fa14b3ba1edfbeff80c3a35",
       "version_major": 2,
       "version_minor": 0
      },
      "text/plain": [
       "HBox(children=(HTML(value='Summarize dataset'), FloatProgress(value=0.0, max=17.0), HTML(value='')))"
      ]
     },
     "metadata": {},
     "output_type": "display_data"
    },
    {
     "name": "stdout",
     "output_type": "stream",
     "text": [
      "\n"
     ]
    },
    {
     "data": {
      "application/vnd.jupyter.widget-view+json": {
       "model_id": "cac32c926e094ad2b7818c2ca3095a3c",
       "version_major": 2,
       "version_minor": 0
      },
      "text/plain": [
       "HBox(children=(HTML(value='Generate report structure'), FloatProgress(value=0.0, max=1.0), HTML(value='')))"
      ]
     },
     "metadata": {},
     "output_type": "display_data"
    },
    {
     "name": "stdout",
     "output_type": "stream",
     "text": [
      "\n"
     ]
    },
    {
     "data": {
      "application/vnd.jupyter.widget-view+json": {
       "model_id": "a7466ad452f04794b7b9c44698771e9a",
       "version_major": 2,
       "version_minor": 0
      },
      "text/plain": [
       "HBox(children=(HTML(value='Render HTML'), FloatProgress(value=0.0, max=1.0), HTML(value='')))"
      ]
     },
     "metadata": {},
     "output_type": "display_data"
    },
    {
     "name": "stdout",
     "output_type": "stream",
     "text": [
      "\n"
     ]
    },
    {
     "data": {
      "application/vnd.jupyter.widget-view+json": {
       "model_id": "3456375ed47e4c08a767283e03b07465",
       "version_major": 2,
       "version_minor": 0
      },
      "text/plain": [
       "HBox(children=(HTML(value='Export report to file'), FloatProgress(value=0.0, max=1.0), HTML(value='')))"
      ]
     },
     "metadata": {},
     "output_type": "display_data"
    },
    {
     "name": "stdout",
     "output_type": "stream",
     "text": [
      "\n"
     ]
    },
    {
     "data": {
      "application/vnd.jupyter.widget-view+json": {
       "model_id": "2b3957eca43240c2b4accf0f0ba3d539",
       "version_major": 2,
       "version_minor": 0
      },
      "text/plain": [
       "HBox(children=(HTML(value=''), FloatProgress(value=0.0, layout=Layout(flex='2'), max=5.0), HTML(value='')), la…"
      ]
     },
     "metadata": {},
     "output_type": "display_data"
    },
    {
     "name": "stdout",
     "output_type": "stream",
     "text": [
      "\n",
      "Report Analysis/flair_sweetviz.html was generated! NOTEBOOK/COLAB USERS: the web browser MAY not pop up, regardless, the report IS saved in your notebook/colab files.\n"
     ]
    },
    {
     "data": {
      "application/vnd.jupyter.widget-view+json": {
       "model_id": "62f1e6ca541849f5ae9eae86da9bfdcf",
       "version_major": 2,
       "version_minor": 0
      },
      "text/plain": [
       "HBox(children=(HTML(value='Summarize dataset'), FloatProgress(value=0.0, max=17.0), HTML(value='')))"
      ]
     },
     "metadata": {},
     "output_type": "display_data"
    },
    {
     "name": "stdout",
     "output_type": "stream",
     "text": [
      "\n"
     ]
    },
    {
     "data": {
      "application/vnd.jupyter.widget-view+json": {
       "model_id": "f0522170570f46c4b48b258a2d7145cf",
       "version_major": 2,
       "version_minor": 0
      },
      "text/plain": [
       "HBox(children=(HTML(value='Generate report structure'), FloatProgress(value=0.0, max=1.0), HTML(value='')))"
      ]
     },
     "metadata": {},
     "output_type": "display_data"
    },
    {
     "name": "stdout",
     "output_type": "stream",
     "text": [
      "\n"
     ]
    },
    {
     "data": {
      "application/vnd.jupyter.widget-view+json": {
       "model_id": "639eb9009fb7492aa2c28144468c7a25",
       "version_major": 2,
       "version_minor": 0
      },
      "text/plain": [
       "HBox(children=(HTML(value='Render HTML'), FloatProgress(value=0.0, max=1.0), HTML(value='')))"
      ]
     },
     "metadata": {},
     "output_type": "display_data"
    },
    {
     "name": "stdout",
     "output_type": "stream",
     "text": [
      "\n"
     ]
    },
    {
     "data": {
      "application/vnd.jupyter.widget-view+json": {
       "model_id": "7195b257be734176a03cf5f0cdeaa319",
       "version_major": 2,
       "version_minor": 0
      },
      "text/plain": [
       "HBox(children=(HTML(value='Export report to file'), FloatProgress(value=0.0, max=1.0), HTML(value='')))"
      ]
     },
     "metadata": {},
     "output_type": "display_data"
    },
    {
     "name": "stdout",
     "output_type": "stream",
     "text": [
      "\n"
     ]
    }
   ],
   "source": [
    "# Generating reports for all three datasets.\n",
    "get_profiling(df_real, 'real')\n",
    "get_profiling(df_fake, 'fake')\n",
    "get_profiling(df_flair, 'flair')"
   ]
  },
  {
   "cell_type": "markdown",
   "metadata": {},
   "source": [
    "### Dataset analysis\n",
    "\n",
    "Identifying features and shape"
   ]
  },
  {
   "cell_type": "code",
   "execution_count": 13,
   "metadata": {
    "ExecuteTime": {
     "end_time": "2021-04-23T07:04:25.055477Z",
     "start_time": "2021-04-23T07:04:25.034482Z"
    }
   },
   "outputs": [
    {
     "data": {
      "text/html": [
       "<div>\n",
       "<style scoped>\n",
       "    .dataframe tbody tr th:only-of-type {\n",
       "        vertical-align: middle;\n",
       "    }\n",
       "\n",
       "    .dataframe tbody tr th {\n",
       "        vertical-align: top;\n",
       "    }\n",
       "\n",
       "    .dataframe thead th {\n",
       "        text-align: right;\n",
       "    }\n",
       "</style>\n",
       "<table border=\"1\" class=\"dataframe\">\n",
       "  <thead>\n",
       "    <tr style=\"text-align: right;\">\n",
       "      <th></th>\n",
       "      <th>title</th>\n",
       "      <th>text</th>\n",
       "      <th>subject</th>\n",
       "      <th>date</th>\n",
       "    </tr>\n",
       "  </thead>\n",
       "  <tbody>\n",
       "    <tr>\n",
       "      <th>18716</th>\n",
       "      <td>Stampede in India's financial capital kills at...</td>\n",
       "      <td>MUMBAI (Reuters) - A rush hour stampede killed...</td>\n",
       "      <td>worldnews</td>\n",
       "      <td>September 29, 2017</td>\n",
       "    </tr>\n",
       "    <tr>\n",
       "      <th>277</th>\n",
       "      <td>U.S. Interior Department wants more oil drilli...</td>\n",
       "      <td>(Reuters) - The Department of the Interior, th...</td>\n",
       "      <td>politicsNews</td>\n",
       "      <td>December 7, 2017</td>\n",
       "    </tr>\n",
       "    <tr>\n",
       "      <th>3841</th>\n",
       "      <td>Trump to nominate ex-congressman Green to lead...</td>\n",
       "      <td>WASHINGTON (Reuters) - President Donald Trump ...</td>\n",
       "      <td>politicsNews</td>\n",
       "      <td>May 10, 2017</td>\n",
       "    </tr>\n",
       "    <tr>\n",
       "      <th>16024</th>\n",
       "      <td>Moscow invites 33 Syrian groups to November 18...</td>\n",
       "      <td>MOSCOW (Reuters) - Russia on Tuesday invited 3...</td>\n",
       "      <td>worldnews</td>\n",
       "      <td>October 31, 2017</td>\n",
       "    </tr>\n",
       "    <tr>\n",
       "      <th>13172</th>\n",
       "      <td>Bolivians spoil ballots in judicial vote to pr...</td>\n",
       "      <td>LA PAZ (Reuters) - More than half the ballots ...</td>\n",
       "      <td>worldnews</td>\n",
       "      <td>December 4, 2017</td>\n",
       "    </tr>\n",
       "  </tbody>\n",
       "</table>\n",
       "</div>"
      ],
      "text/plain": [
       "                                                   title  \\\n",
       "18716  Stampede in India's financial capital kills at...   \n",
       "277    U.S. Interior Department wants more oil drilli...   \n",
       "3841   Trump to nominate ex-congressman Green to lead...   \n",
       "16024  Moscow invites 33 Syrian groups to November 18...   \n",
       "13172  Bolivians spoil ballots in judicial vote to pr...   \n",
       "\n",
       "                                                    text       subject  \\\n",
       "18716  MUMBAI (Reuters) - A rush hour stampede killed...     worldnews   \n",
       "277    (Reuters) - The Department of the Interior, th...  politicsNews   \n",
       "3841   WASHINGTON (Reuters) - President Donald Trump ...  politicsNews   \n",
       "16024  MOSCOW (Reuters) - Russia on Tuesday invited 3...     worldnews   \n",
       "13172  LA PAZ (Reuters) - More than half the ballots ...     worldnews   \n",
       "\n",
       "                      date  \n",
       "18716  September 29, 2017   \n",
       "277      December 7, 2017   \n",
       "3841         May 10, 2017   \n",
       "16024    October 31, 2017   \n",
       "13172    December 4, 2017   "
      ]
     },
     "execution_count": 13,
     "metadata": {},
     "output_type": "execute_result"
    }
   ],
   "source": [
    "df_real.sample(5)"
   ]
  },
  {
   "cell_type": "code",
   "execution_count": 14,
   "metadata": {
    "ExecuteTime": {
     "end_time": "2021-04-23T07:04:25.289095Z",
     "start_time": "2021-04-23T07:04:25.272097Z"
    }
   },
   "outputs": [
    {
     "data": {
      "text/html": [
       "<div>\n",
       "<style scoped>\n",
       "    .dataframe tbody tr th:only-of-type {\n",
       "        vertical-align: middle;\n",
       "    }\n",
       "\n",
       "    .dataframe tbody tr th {\n",
       "        vertical-align: top;\n",
       "    }\n",
       "\n",
       "    .dataframe thead th {\n",
       "        text-align: right;\n",
       "    }\n",
       "</style>\n",
       "<table border=\"1\" class=\"dataframe\">\n",
       "  <thead>\n",
       "    <tr style=\"text-align: right;\">\n",
       "      <th></th>\n",
       "      <th>title</th>\n",
       "      <th>text</th>\n",
       "      <th>subject</th>\n",
       "      <th>date</th>\n",
       "    </tr>\n",
       "  </thead>\n",
       "  <tbody>\n",
       "    <tr>\n",
       "      <th>0</th>\n",
       "      <td>Donald Trump Sends Out Embarrassing New Year’...</td>\n",
       "      <td>Donald Trump just couldn t wish all Americans ...</td>\n",
       "      <td>News</td>\n",
       "      <td>December 31, 2017</td>\n",
       "    </tr>\n",
       "    <tr>\n",
       "      <th>1</th>\n",
       "      <td>Drunk Bragging Trump Staffer Started Russian ...</td>\n",
       "      <td>House Intelligence Committee Chairman Devin Nu...</td>\n",
       "      <td>News</td>\n",
       "      <td>December 31, 2017</td>\n",
       "    </tr>\n",
       "    <tr>\n",
       "      <th>2</th>\n",
       "      <td>Sheriff David Clarke Becomes An Internet Joke...</td>\n",
       "      <td>On Friday, it was revealed that former Milwauk...</td>\n",
       "      <td>News</td>\n",
       "      <td>December 30, 2017</td>\n",
       "    </tr>\n",
       "    <tr>\n",
       "      <th>3</th>\n",
       "      <td>Trump Is So Obsessed He Even Has Obama’s Name...</td>\n",
       "      <td>On Christmas day, Donald Trump announced that ...</td>\n",
       "      <td>News</td>\n",
       "      <td>December 29, 2017</td>\n",
       "    </tr>\n",
       "    <tr>\n",
       "      <th>4</th>\n",
       "      <td>Pope Francis Just Called Out Donald Trump Dur...</td>\n",
       "      <td>Pope Francis used his annual Christmas Day mes...</td>\n",
       "      <td>News</td>\n",
       "      <td>December 25, 2017</td>\n",
       "    </tr>\n",
       "  </tbody>\n",
       "</table>\n",
       "</div>"
      ],
      "text/plain": [
       "                                               title  \\\n",
       "0   Donald Trump Sends Out Embarrassing New Year’...   \n",
       "1   Drunk Bragging Trump Staffer Started Russian ...   \n",
       "2   Sheriff David Clarke Becomes An Internet Joke...   \n",
       "3   Trump Is So Obsessed He Even Has Obama’s Name...   \n",
       "4   Pope Francis Just Called Out Donald Trump Dur...   \n",
       "\n",
       "                                                text subject  \\\n",
       "0  Donald Trump just couldn t wish all Americans ...    News   \n",
       "1  House Intelligence Committee Chairman Devin Nu...    News   \n",
       "2  On Friday, it was revealed that former Milwauk...    News   \n",
       "3  On Christmas day, Donald Trump announced that ...    News   \n",
       "4  Pope Francis used his annual Christmas Day mes...    News   \n",
       "\n",
       "                date  \n",
       "0  December 31, 2017  \n",
       "1  December 31, 2017  \n",
       "2  December 30, 2017  \n",
       "3  December 29, 2017  \n",
       "4  December 25, 2017  "
      ]
     },
     "execution_count": 14,
     "metadata": {},
     "output_type": "execute_result"
    }
   ],
   "source": [
    "df_fake.head(5)"
   ]
  },
  {
   "cell_type": "code",
   "execution_count": 15,
   "metadata": {
    "ExecuteTime": {
     "end_time": "2021-04-23T07:04:25.631282Z",
     "start_time": "2021-04-23T07:04:25.618282Z"
    }
   },
   "outputs": [
    {
     "data": {
      "text/html": [
       "<div>\n",
       "<style scoped>\n",
       "    .dataframe tbody tr th:only-of-type {\n",
       "        vertical-align: middle;\n",
       "    }\n",
       "\n",
       "    .dataframe tbody tr th {\n",
       "        vertical-align: top;\n",
       "    }\n",
       "\n",
       "    .dataframe thead th {\n",
       "        text-align: right;\n",
       "    }\n",
       "</style>\n",
       "<table border=\"1\" class=\"dataframe\">\n",
       "  <thead>\n",
       "    <tr style=\"text-align: right;\">\n",
       "      <th></th>\n",
       "      <th>Unnamed: 0</th>\n",
       "      <th>title</th>\n",
       "      <th>text</th>\n",
       "      <th>label</th>\n",
       "    </tr>\n",
       "  </thead>\n",
       "  <tbody>\n",
       "    <tr>\n",
       "      <th>2601</th>\n",
       "      <td>8739</td>\n",
       "      <td>Syria conflict: Food rations run out in rebel-...</td>\n",
       "      <td>November 11, 2016 Syria conflict: Food rations...</td>\n",
       "      <td>FAKE</td>\n",
       "    </tr>\n",
       "    <tr>\n",
       "      <th>4668</th>\n",
       "      <td>10528</td>\n",
       "      <td>Jerusalem in Photos from 1862: No mosques, no ...</td>\n",
       "      <td>Jerusalem in Photos from 1862: No mosques, no ...</td>\n",
       "      <td>FAKE</td>\n",
       "    </tr>\n",
       "    <tr>\n",
       "      <th>4523</th>\n",
       "      <td>2091</td>\n",
       "      <td>Warming of oceans due to climate change is uns...</td>\n",
       "      <td>The warming of the oceans due to climate chang...</td>\n",
       "      <td>REAL</td>\n",
       "    </tr>\n",
       "    <tr>\n",
       "      <th>3393</th>\n",
       "      <td>921</td>\n",
       "      <td>5 takeaways from the New York primary</td>\n",
       "      <td>BROOKLYN — New York is supposed to be a magica...</td>\n",
       "      <td>REAL</td>\n",
       "    </tr>\n",
       "    <tr>\n",
       "      <th>930</th>\n",
       "      <td>10340</td>\n",
       "      <td>News Shot: Detroit Airport Uses New System To ...</td>\n",
       "      <td>In this News Shot, Joe Joseph quickly discusse...</td>\n",
       "      <td>FAKE</td>\n",
       "    </tr>\n",
       "  </tbody>\n",
       "</table>\n",
       "</div>"
      ],
      "text/plain": [
       "      Unnamed: 0                                              title  \\\n",
       "2601        8739  Syria conflict: Food rations run out in rebel-...   \n",
       "4668       10528  Jerusalem in Photos from 1862: No mosques, no ...   \n",
       "4523        2091  Warming of oceans due to climate change is uns...   \n",
       "3393         921              5 takeaways from the New York primary   \n",
       "930        10340  News Shot: Detroit Airport Uses New System To ...   \n",
       "\n",
       "                                                   text label  \n",
       "2601  November 11, 2016 Syria conflict: Food rations...  FAKE  \n",
       "4668  Jerusalem in Photos from 1862: No mosques, no ...  FAKE  \n",
       "4523  The warming of the oceans due to climate chang...  REAL  \n",
       "3393  BROOKLYN — New York is supposed to be a magica...  REAL  \n",
       "930   In this News Shot, Joe Joseph quickly discusse...  FAKE  "
      ]
     },
     "execution_count": 15,
     "metadata": {},
     "output_type": "execute_result"
    }
   ],
   "source": [
    "df_flair.sample(5)"
   ]
  },
  {
   "cell_type": "code",
   "execution_count": 16,
   "metadata": {
    "ExecuteTime": {
     "end_time": "2021-04-23T07:04:25.896241Z",
     "start_time": "2021-04-23T07:04:25.882243Z"
    }
   },
   "outputs": [
    {
     "name": "stdout",
     "output_type": "stream",
     "text": [
      "df_real's shape:  (21417, 4)\n",
      "df_fake's shape:  (23481, 4)\n",
      "df_flair's shape: (6335, 4)\n"
     ]
    }
   ],
   "source": [
    "print(f\"df_real's shape:  {df_real.shape}\")\n",
    "print(f\"df_fake's shape:  {df_fake.shape}\")\n",
    "print(f\"df_flair's shape: {df_flair.shape}\")"
   ]
  },
  {
   "cell_type": "markdown",
   "metadata": {},
   "source": [
    "### Count plot for different categories of news"
   ]
  },
  {
   "cell_type": "code",
   "execution_count": 17,
   "metadata": {
    "ExecuteTime": {
     "end_time": "2021-04-23T07:04:27.050505Z",
     "start_time": "2021-04-23T07:04:26.775908Z"
    }
   },
   "outputs": [
    {
     "data": {
      "text/plain": [
       "Text(0.5, 1.0, 'Count Plot for Different Categories of News')"
      ]
     },
     "execution_count": 17,
     "metadata": {},
     "output_type": "execute_result"
    },
    {
     "data": {
      "image/png": "[encoded data removed]",
      "text/plain": [
       "<Figure size 1100x440 with 1 Axes>"
      ]
     },
     "metadata": {
      "needs_background": "light"
     },
     "output_type": "display_data"
    }
   ],
   "source": [
    "f, axes = plt.subplots(figsize=(10, 4), dpi=110, frameon=False)\n",
    "sns.countplot(x=\"subject\",\n",
    "              palette=\"icefire\",\n",
    "              edgecolor=\"1\",\n",
    "              data=df_fake,\n",
    "              ax=axes)\n",
    "axes.set_xticklabels(labels=[\n",
    "    'Generic', 'Politics', 'Government', 'Left-Wing', 'USA', 'Middle-East'\n",
    "],\n",
    "                     fontdict={\"fontsize\": 10})\n",
    "axes.set_xlabel('Categories of News',\n",
    "                fontdict={\n",
    "                    \"fontsize\": 13,\n",
    "                    'fontweight': 3\n",
    "                },\n",
    "                labelpad=15)\n",
    "axes.set_ylabel('No. of Records',\n",
    "                fontdict={\n",
    "                    \"fontsize\": 12,\n",
    "                    'fontweight': 2\n",
    "                },\n",
    "                labelpad=15)\n",
    "axes.set_title('Count Plot for Different Categories of News',\n",
    "               fontdict={\n",
    "                   \"fontsize\": 13,\n",
    "                   'fontweight': 3\n",
    "               },\n",
    "               pad=10)"
   ]
  },
  {
   "cell_type": "code",
   "execution_count": 18,
   "metadata": {
    "ExecuteTime": {
     "end_time": "2021-04-23T07:04:27.415863Z",
     "start_time": "2021-04-23T07:04:27.237298Z"
    }
   },
   "outputs": [
    {
     "data": {
      "text/plain": [
       "Text(0.5, 1.0, 'Count Plot for Different Categories of News')"
      ]
     },
     "execution_count": 18,
     "metadata": {},
     "output_type": "execute_result"
    },
    {
     "data": {
      "image/png": "[encoded data removed]",
      "text/plain": [
       "<Figure size 880x440 with 1 Axes>"
      ]
     },
     "metadata": {
      "needs_background": "light"
     },
     "output_type": "display_data"
    }
   ],
   "source": [
    "f, axes = plt.subplots(figsize=(8, 4), dpi=110, frameon=False)\n",
    "sns.countplot(x=\"subject\",\n",
    "              palette=\"Set1\",\n",
    "              edgecolor=\"1\",\n",
    "              data=df_real,\n",
    "              ax=axes)\n",
    "axes.set_xticklabels(labels=['Politics', 'International'],\n",
    "                     fontdict={\"fontsize\": 10})\n",
    "axes.set_xlabel('Categories of News',\n",
    "                fontdict={\n",
    "                    \"fontsize\": 12,\n",
    "                    'fontweight': 2\n",
    "                })\n",
    "axes.set_ylabel('No. of Records', fontdict={\"fontsize\": 12, 'fontweight': 2})\n",
    "axes.set_title('Count Plot for Different Categories of News',\n",
    "               fontdict={\n",
    "                   \"fontsize\": 13,\n",
    "                   'fontweight': 2\n",
    "               })"
   ]
  },
  {
   "cell_type": "markdown",
   "metadata": {},
   "source": [
    "## Data cleaning"
   ]
  },
  {
   "cell_type": "markdown",
   "metadata": {},
   "source": [
    "### Null handling"
   ]
  },
  {
   "cell_type": "code",
   "execution_count": 19,
   "metadata": {
    "ExecuteTime": {
     "end_time": "2021-04-23T07:04:28.811334Z",
     "start_time": "2021-04-23T07:04:28.745387Z"
    }
   },
   "outputs": [
    {
     "name": "stdout",
     "output_type": "stream",
     "text": [
      "DataSource         Shape        Nulls   Columns                                            Column-wise Nulls\n",
      "-----------------  ------------ ------- -------------------------------------------------- -------------------------\n",
      "\n",
      "Kaggle Real-News   (21417, 4)   0       ['title', 'text', 'subject', 'date']               [0, 0, 0, 0]\n",
      "Kaggle Fake-News   (23481, 4)   0       ['title', 'text', 'subject', 'date']               [0, 0, 0, 0]\n",
      "Flair              (6335, 4)    0       ['Unnamed: 0', 'title', 'text', 'label']           [0, 0, 0, 0]\n",
      "\n",
      "-----------------  ------------ ------- -------------------------------------------------- -------------------------\n",
      "Total              Rows-51233   0       ['title', 'date', 'label', 'Unnamed: 0', 'text', 'subject'] \n",
      "\n",
      "\n",
      "Dropping Nulls - After Max damage remain:  51233\n"
     ]
    }
   ],
   "source": [
    "print(\"{:<18} {:<12} {:<7} {:<50} {}\".format('DataSource', 'Shape', 'Nulls',\n",
    "                                             'Columns', 'Column-wise Nulls'))\n",
    "print(\"{:<18} {:<12} {:<7} {:<50} {}\".format(17 * '-', 12 * '-', 7 * '-',\n",
    "                                             50 * '-', 25 * '-'))\n",
    "print(\"\\n{:<18} {:<12} {:<7} {:<50} {}\".format(\n",
    "    'Kaggle Real-News', str(df_real.shape),\n",
    "    str(sum(df_real.isnull().sum().tolist())), str(list(df_real.columns)),\n",
    "    str(df_real.isnull().sum().tolist())))\n",
    "print(\"{:<18} {:<12} {:<7} {:<50} {}\".format(\n",
    "    'Kaggle Fake-News', str(df_fake.shape),\n",
    "    str(sum(df_fake.isnull().sum().tolist())), str(list(df_fake.columns)),\n",
    "    str(df_fake.isnull().sum().tolist())))\n",
    "print(\"{:<18} {:<12} {:<7} {:<50} {}\".format(\n",
    "    'Flair', str(df_flair.shape), str(sum(df_flair.isnull().sum().tolist())),\n",
    "    str(list(df_flair.columns)), str(df_flair.isnull().sum().tolist())))\n",
    "print(\"\\n{:<18} {:<12} {:<7} {:<50} {}\".format(17 * '-', 12 * '-', 7 * '-',\n",
    "                                               50 * '-', 25 * '-'))\n",
    "total = df_real.shape[0] + df_fake.shape[0] + df_flair.shape[0]\n",
    "nulls = sum(df_real.isnull().sum().tolist()) + sum(\n",
    "    df_fake.isnull().sum().tolist()) + sum(df_flair.isnull().sum().tolist())\n",
    "remain = total - nulls\n",
    "print(\"{:<18} {:<12} {:<7} {:<50} {}\".format(\n",
    "    'Total', 'Rows-' + str(total), str(nulls),\n",
    "    str(\n",
    "        list(\n",
    "            set(list(df_real.columns)) | set(list(df_fake.columns))\n",
    "            | set(list(df_flair.columns)))), ''))\n",
    "print('\\n\\nDropping Nulls - After Max damage remain: ', remain)"
   ]
  },
  {
   "cell_type": "markdown",
   "metadata": {},
   "source": [
    "### Uniformity"
   ]
  },
  {
   "cell_type": "markdown",
   "metadata": {},
   "source": [
    "**Text format**\n",
    "\n",
    "Looking at the Sample data, focusing on 'Text' column values:\n",
    "\n",
    "* Real news data frame:  has publication and source of news starting of the text\n",
    "* Fake news data frame:  Doesn't\n",
    "* Flair news data frame: Doesn't\n",
    "\n",
    "It is important to make it unified before merging them and preparing them for modelling."
   ]
  },
  {
   "cell_type": "code",
   "execution_count": 20,
   "metadata": {
    "ExecuteTime": {
     "end_time": "2021-04-23T07:04:30.136579Z",
     "start_time": "2021-04-23T07:04:30.101554Z"
    }
   },
   "outputs": [],
   "source": [
    "# Extracting list without publications\n",
    "without_pub = []\n",
    "for index, row in enumerate(df_real.text.values):\n",
    "    try:\n",
    "        # Try will throw excution to except if publisher not found\n",
    "        record = row.split(\" -\", maxsplit=1)\n",
    "        record[1]\n",
    "        # Setting publisher text limit 260 [This much longer Publisher name is risk to text loss]\n",
    "        # Following will give error, ensuring no text having \"-\" in between is counted\n",
    "        assert (len(record[0]) < 260)\n",
    "    except:\n",
    "        without_pub.append(index)"
   ]
  },
  {
   "cell_type": "code",
   "execution_count": 21,
   "metadata": {
    "ExecuteTime": {
     "end_time": "2021-04-23T07:04:31.164112Z",
     "start_time": "2021-04-23T07:04:31.155110Z"
    }
   },
   "outputs": [
    {
     "data": {
      "text/plain": [
       "3488     The White House on Wednesday disclosed a group...\n",
       "4358     Neil Gorsuch, President Donald Trump’s appoint...\n",
       "4465     WASHINGTON The clock began running out this we...\n",
       "5784     Federal appeals court judge Neil Gorsuch, the ...\n",
       "6660     Republican members of Congress are complaining...\n",
       "6823     Over the course of the U.S. presidential campa...\n",
       "7922     After going through a week reminiscent of Napo...\n",
       "8194     The following timeline charts the origin and s...\n",
       "8195     Global health officials are racing to better u...\n",
       "8247     U.S. President Barack Obama visited a street m...\n",
       "8465     ALGONAC, MICH.—Parker Fox drifted out of the D...\n",
       "8481     Global health officials are racing to better u...\n",
       "8482     The following timeline charts the origin and s...\n",
       "8505     Global health officials are racing to better u...\n",
       "8506     The following timeline charts the origin and s...\n",
       "8771     In a speech weighted with America’s complicate...\n",
       "8970                                                      \n",
       "9008     The following timeline charts the origin and s...\n",
       "9009     Global health officials are racing to better u...\n",
       "9307     It’s the near future, and North Korea’s regime...\n",
       "9618     GOP leaders have unleashed a stunning level of...\n",
       "9737     Caitlyn Jenner posted a video on Wednesday (Ap...\n",
       "10479    The Democratic and Republican nominees for the...\n",
       "Name: text, dtype: object"
      ]
     },
     "execution_count": 21,
     "metadata": {},
     "output_type": "execute_result"
    }
   ],
   "source": [
    "# Check the length and data without publisher\n",
    "df_real.iloc[without_pub].text"
   ]
  },
  {
   "cell_type": "code",
   "execution_count": 22,
   "metadata": {
    "ExecuteTime": {
     "end_time": "2021-04-23T07:04:32.253172Z",
     "start_time": "2021-04-23T07:04:32.244172Z"
    }
   },
   "outputs": [
    {
     "name": "stdout",
     "output_type": "stream",
     "text": [
      "No. of news without publisher: 23\n"
     ]
    }
   ],
   "source": [
    "print(f'No. of news without publisher: {len(df_real.iloc[without_pub].text)}')"
   ]
  },
  {
   "cell_type": "code",
   "execution_count": 23,
   "metadata": {
    "ExecuteTime": {
     "end_time": "2021-04-23T07:04:32.878778Z",
     "start_time": "2021-04-23T07:04:32.840780Z"
    }
   },
   "outputs": [
    {
     "data": {
      "text/plain": [
       "[8970]"
      ]
     },
     "execution_count": 23,
     "metadata": {},
     "output_type": "execute_result"
    }
   ],
   "source": [
    "# Checking for rows with empty text\n",
    "[\n",
    "    index for index, text in enumerate(df_real.text.values)\n",
    "    if str(text).strip() == ''\n",
    "]"
   ]
  },
  {
   "cell_type": "code",
   "execution_count": 23,
   "metadata": {
    "ExecuteTime": {
     "end_time": "2021-04-22T14:57:53.230400Z",
     "start_time": "2021-04-22T14:57:53.211180Z"
    }
   },
   "outputs": [],
   "source": [
    "# Dropping this record\n",
    "real = df_real.drop(8970, axis=0)"
   ]
  },
  {
   "cell_type": "code",
   "execution_count": 24,
   "metadata": {
    "ExecuteTime": {
     "end_time": "2021-04-23T07:05:25.387952Z",
     "start_time": "2021-04-23T07:05:25.321992Z"
    }
   },
   "outputs": [],
   "source": [
    "# Seperating Publication from text values\n",
    "publ = []\n",
    "tmp_text = []\n",
    "for index, row in enumerate(df_real.text.values):\n",
    "    if index in without_pub:\n",
    "        tmp_text.append(row)\n",
    "        # Adding Unknown as for the rows which found without publishers\n",
    "        publ.append(\"Unknown\")\n",
    "        continue\n",
    "    record = row.split(\" -\", maxsplit=1)\n",
    "    publ.append(record[0])\n",
    "    tmp_text.append(record[1])"
   ]
  },
  {
   "cell_type": "code",
   "execution_count": 25,
   "metadata": {
    "ExecuteTime": {
     "end_time": "2021-04-23T07:05:26.286993Z",
     "start_time": "2021-04-23T07:05:26.259021Z"
    }
   },
   "outputs": [],
   "source": [
    "# Adding seperate column for publication info and Replace existing text column with new text\n",
    "df_real[\"publisher\"] = publ\n",
    "df_real[\"text\"] = tmp_text"
   ]
  },
  {
   "cell_type": "code",
   "execution_count": 26,
   "metadata": {
    "ExecuteTime": {
     "end_time": "2021-04-23T07:05:27.199754Z",
     "start_time": "2021-04-23T07:05:27.172729Z"
    }
   },
   "outputs": [
    {
     "data": {
      "text/html": [
       "<div>\n",
       "<style scoped>\n",
       "    .dataframe tbody tr th:only-of-type {\n",
       "        vertical-align: middle;\n",
       "    }\n",
       "\n",
       "    .dataframe tbody tr th {\n",
       "        vertical-align: top;\n",
       "    }\n",
       "\n",
       "    .dataframe thead th {\n",
       "        text-align: right;\n",
       "    }\n",
       "</style>\n",
       "<table border=\"1\" class=\"dataframe\">\n",
       "  <thead>\n",
       "    <tr style=\"text-align: right;\">\n",
       "      <th></th>\n",
       "      <th>title</th>\n",
       "      <th>text</th>\n",
       "      <th>subject</th>\n",
       "      <th>date</th>\n",
       "      <th>publisher</th>\n",
       "    </tr>\n",
       "  </thead>\n",
       "  <tbody>\n",
       "    <tr>\n",
       "      <th>14410</th>\n",
       "      <td>Beijing orders safety checks after apartment b...</td>\n",
       "      <td>A fire in a Beijing apartment block that kill...</td>\n",
       "      <td>worldnews</td>\n",
       "      <td>November 20, 2017</td>\n",
       "      <td>BEIJING (Reuters)</td>\n",
       "    </tr>\n",
       "    <tr>\n",
       "      <th>8429</th>\n",
       "      <td>Clinton Foundation to bar foreign, corporate f...</td>\n",
       "      <td>The Clinton Foundation will stop accepting fo...</td>\n",
       "      <td>politicsNews</td>\n",
       "      <td>August 18, 2016</td>\n",
       "      <td>WASHINGTON (Reuters)</td>\n",
       "    </tr>\n",
       "    <tr>\n",
       "      <th>14036</th>\n",
       "      <td>Islamic State beheads 15 of its own fighters: ...</td>\n",
       "      <td>Islamic State beheaded 15 of its own fighters...</td>\n",
       "      <td>worldnews</td>\n",
       "      <td>November 23, 2017</td>\n",
       "      <td>JALALABAD, Afghanistan (Reuters)</td>\n",
       "    </tr>\n",
       "    <tr>\n",
       "      <th>5404</th>\n",
       "      <td>Trump says U.S. media reports making it hard t...</td>\n",
       "      <td>President Donald Trump on Thursday said repor...</td>\n",
       "      <td>politicsNews</td>\n",
       "      <td>February 16, 2017</td>\n",
       "      <td>WASHINGTON (Reuters)</td>\n",
       "    </tr>\n",
       "    <tr>\n",
       "      <th>14818</th>\n",
       "      <td>Kenya court throws out opposition coalition fr...</td>\n",
       "      <td>Kenya s Supreme Court on Tuesday rejected the...</td>\n",
       "      <td>worldnews</td>\n",
       "      <td>November 14, 2017</td>\n",
       "      <td>NAIROBI (Reuters)</td>\n",
       "    </tr>\n",
       "  </tbody>\n",
       "</table>\n",
       "</div>"
      ],
      "text/plain": [
       "                                                   title  \\\n",
       "14410  Beijing orders safety checks after apartment b...   \n",
       "8429   Clinton Foundation to bar foreign, corporate f...   \n",
       "14036  Islamic State beheads 15 of its own fighters: ...   \n",
       "5404   Trump says U.S. media reports making it hard t...   \n",
       "14818  Kenya court throws out opposition coalition fr...   \n",
       "\n",
       "                                                    text       subject  \\\n",
       "14410   A fire in a Beijing apartment block that kill...     worldnews   \n",
       "8429    The Clinton Foundation will stop accepting fo...  politicsNews   \n",
       "14036   Islamic State beheaded 15 of its own fighters...     worldnews   \n",
       "5404    President Donald Trump on Thursday said repor...  politicsNews   \n",
       "14818   Kenya s Supreme Court on Tuesday rejected the...     worldnews   \n",
       "\n",
       "                     date                         publisher  \n",
       "14410  November 20, 2017                  BEIJING (Reuters)  \n",
       "8429     August 18, 2016               WASHINGTON (Reuters)  \n",
       "14036  November 23, 2017   JALALABAD, Afghanistan (Reuters)  \n",
       "5404   February 16, 2017               WASHINGTON (Reuters)  \n",
       "14818  November 14, 2017                  NAIROBI (Reuters)  "
      ]
     },
     "execution_count": 26,
     "metadata": {},
     "output_type": "execute_result"
    }
   ],
   "source": [
    "df_real.sample(5)"
   ]
  },
  {
   "cell_type": "markdown",
   "metadata": {},
   "source": [
    "Same Way For FakeNews"
   ]
  },
  {
   "cell_type": "code",
   "execution_count": 29,
   "metadata": {
    "ExecuteTime": {
     "end_time": "2021-04-23T07:07:19.471618Z",
     "start_time": "2021-04-23T07:07:19.384672Z"
    }
   },
   "outputs": [],
   "source": [
    "# Extracting list without publications\n",
    "without_pub = []\n",
    "for index, row in enumerate(df_fake.text.values):\n",
    "    try:\n",
    "        # Try will throw excution to except if publisher not found\n",
    "        record = row.split(\" -\", maxsplit=1)\n",
    "        record[1]\n",
    "        # Setting publisher text limit 260 [This much longer Publisher name is risk to text loss]\n",
    "        # Following will give error, ensuring no text having \"-\" in between is counted\n",
    "        assert (len(record[0]) < 260)\n",
    "    except:\n",
    "        without_pub.append(index)"
   ]
  },
  {
   "cell_type": "code",
   "execution_count": 30,
   "metadata": {
    "ExecuteTime": {
     "end_time": "2021-04-23T07:07:19.835247Z",
     "start_time": "2021-04-23T07:07:19.810182Z"
    }
   },
   "outputs": [
    {
     "name": "stdout",
     "output_type": "stream",
     "text": [
      "No. of news without publisher: 23422\n",
      "Total Length: 23481\n"
     ]
    }
   ],
   "source": [
    "print(\n",
    "    f'No. of news without publisher: {len(df_fake.iloc[without_pub].text)}\\nTotal Length: {len(df_fake.text)}'\n",
    ")"
   ]
  },
  {
   "cell_type": "code",
   "execution_count": 31,
   "metadata": {
    "ExecuteTime": {
     "end_time": "2021-04-23T07:07:23.093631Z",
     "start_time": "2021-04-23T07:07:20.052591Z"
    }
   },
   "outputs": [],
   "source": [
    "# Seperating Publication from text values\n",
    "publ = []\n",
    "tmp_text = []\n",
    "for index, row in enumerate(df_fake.text.values):\n",
    "    if index in without_pub:\n",
    "        tmp_text.append(row)\n",
    "        # Adding Unknown as for the rows which found without publishers\n",
    "        publ.append(\"Unknown\")\n",
    "        continue\n",
    "    record = row.split(\" -\", maxsplit=1)\n",
    "    publ.append(record[0])\n",
    "    tmp_text.append(record[1])"
   ]
  },
  {
   "cell_type": "code",
   "execution_count": 32,
   "metadata": {
    "ExecuteTime": {
     "end_time": "2021-04-23T07:07:29.196842Z",
     "start_time": "2021-04-23T07:07:29.188862Z"
    }
   },
   "outputs": [],
   "source": [
    "# Adding seperate column for publication info and Replace existing text column with new text\n",
    "df_fake[\"publisher\"] = publ\n",
    "df_fake[\"text\"] = tmp_text"
   ]
  },
  {
   "cell_type": "code",
   "execution_count": 33,
   "metadata": {
    "ExecuteTime": {
     "end_time": "2021-04-23T07:07:40.155620Z",
     "start_time": "2021-04-23T07:07:40.129621Z"
    }
   },
   "outputs": [
    {
     "data": {
      "text/html": [
       "<div>\n",
       "<style scoped>\n",
       "    .dataframe tbody tr th:only-of-type {\n",
       "        vertical-align: middle;\n",
       "    }\n",
       "\n",
       "    .dataframe tbody tr th {\n",
       "        vertical-align: top;\n",
       "    }\n",
       "\n",
       "    .dataframe thead th {\n",
       "        text-align: right;\n",
       "    }\n",
       "</style>\n",
       "<table border=\"1\" class=\"dataframe\">\n",
       "  <thead>\n",
       "    <tr style=\"text-align: right;\">\n",
       "      <th></th>\n",
       "      <th>title</th>\n",
       "      <th>text</th>\n",
       "      <th>subject</th>\n",
       "      <th>date</th>\n",
       "      <th>publisher</th>\n",
       "    </tr>\n",
       "  </thead>\n",
       "  <tbody>\n",
       "    <tr>\n",
       "      <th>18565</th>\n",
       "      <td>BOOM! HARRIS FAULKNER Blows Up The Russia Coll...</td>\n",
       "      <td>Fox News  Harris Faulkner BLOWS UP the WHOLE R...</td>\n",
       "      <td>left-news</td>\n",
       "      <td>May 29, 2017</td>\n",
       "      <td>Unknown</td>\n",
       "    </tr>\n",
       "    <tr>\n",
       "      <th>13706</th>\n",
       "      <td>TRUMP IS RIGHT AGAIN! While Pundits and Politi...</td>\n",
       "      <td>This is an odd report from Press TV because a ...</td>\n",
       "      <td>politics</td>\n",
       "      <td>Jun 12, 2016</td>\n",
       "      <td>Unknown</td>\n",
       "    </tr>\n",
       "    <tr>\n",
       "      <th>8362</th>\n",
       "      <td>Richard Dreyfuss Uses GMA Interview To Troll ...</td>\n",
       "      <td>Legendary actor Richard Dreyfuss has been hitt...</td>\n",
       "      <td>News</td>\n",
       "      <td>February 3, 2016</td>\n",
       "      <td>Unknown</td>\n",
       "    </tr>\n",
       "    <tr>\n",
       "      <th>2416</th>\n",
       "      <td>Trump Is ACTIVELY Working To RIP Families Awa...</td>\n",
       "      <td>A letter to the editor appeared in The New Yor...</td>\n",
       "      <td>News</td>\n",
       "      <td>February 23, 2017</td>\n",
       "      <td>Unknown</td>\n",
       "    </tr>\n",
       "    <tr>\n",
       "      <th>9609</th>\n",
       "      <td>CNN’S DRAMA QUEEN HOST Tears Up After Reading ...</td>\n",
       "      <td>CNN s Don Lemon gave an OSCAR-worthy performan...</td>\n",
       "      <td>politics</td>\n",
       "      <td>Oct 24, 2017</td>\n",
       "      <td>Unknown</td>\n",
       "    </tr>\n",
       "  </tbody>\n",
       "</table>\n",
       "</div>"
      ],
      "text/plain": [
       "                                                   title  \\\n",
       "18565  BOOM! HARRIS FAULKNER Blows Up The Russia Coll...   \n",
       "13706  TRUMP IS RIGHT AGAIN! While Pundits and Politi...   \n",
       "8362    Richard Dreyfuss Uses GMA Interview To Troll ...   \n",
       "2416    Trump Is ACTIVELY Working To RIP Families Awa...   \n",
       "9609   CNN’S DRAMA QUEEN HOST Tears Up After Reading ...   \n",
       "\n",
       "                                                    text    subject  \\\n",
       "18565  Fox News  Harris Faulkner BLOWS UP the WHOLE R...  left-news   \n",
       "13706  This is an odd report from Press TV because a ...   politics   \n",
       "8362   Legendary actor Richard Dreyfuss has been hitt...       News   \n",
       "2416   A letter to the editor appeared in The New Yor...       News   \n",
       "9609   CNN s Don Lemon gave an OSCAR-worthy performan...   politics   \n",
       "\n",
       "                    date publisher  \n",
       "18565       May 29, 2017   Unknown  \n",
       "13706       Jun 12, 2016   Unknown  \n",
       "8362    February 3, 2016   Unknown  \n",
       "2416   February 23, 2017   Unknown  \n",
       "9609        Oct 24, 2017   Unknown  "
      ]
     },
     "execution_count": 33,
     "metadata": {},
     "output_type": "execute_result"
    }
   ],
   "source": [
    "df_fake.sample(5)"
   ]
  },
  {
   "cell_type": "code",
   "execution_count": 34,
   "metadata": {
    "ExecuteTime": {
     "end_time": "2021-04-23T07:07:43.253239Z",
     "start_time": "2021-04-23T07:07:43.223228Z"
    }
   },
   "outputs": [
    {
     "name": "stdout",
     "output_type": "stream",
     "text": [
      "No of empty rows: 630\n"
     ]
    },
    {
     "data": {
      "text/html": [
       "<div>\n",
       "<style scoped>\n",
       "    .dataframe tbody tr th:only-of-type {\n",
       "        vertical-align: middle;\n",
       "    }\n",
       "\n",
       "    .dataframe tbody tr th {\n",
       "        vertical-align: top;\n",
       "    }\n",
       "\n",
       "    .dataframe thead th {\n",
       "        text-align: right;\n",
       "    }\n",
       "</style>\n",
       "<table border=\"1\" class=\"dataframe\">\n",
       "  <thead>\n",
       "    <tr style=\"text-align: right;\">\n",
       "      <th></th>\n",
       "      <th>title</th>\n",
       "      <th>text</th>\n",
       "      <th>subject</th>\n",
       "      <th>date</th>\n",
       "      <th>publisher</th>\n",
       "    </tr>\n",
       "  </thead>\n",
       "  <tbody>\n",
       "    <tr>\n",
       "      <th>21816</th>\n",
       "      <td>BALTIMORE BURNS: MARYLAND GOVERNOR BRINGS IN N...</td>\n",
       "      <td></td>\n",
       "      <td>left-news</td>\n",
       "      <td>Apr 27, 2015</td>\n",
       "      <td>Unknown</td>\n",
       "    </tr>\n",
       "    <tr>\n",
       "      <th>21826</th>\n",
       "      <td>FULL VIDEO: THE BLOCKBUSTER INVESTIGATION INTO...</td>\n",
       "      <td></td>\n",
       "      <td>left-news</td>\n",
       "      <td>Apr 25, 2015</td>\n",
       "      <td>Unknown</td>\n",
       "    </tr>\n",
       "    <tr>\n",
       "      <th>21827</th>\n",
       "      <td>(VIDEO) HILLARY CLINTON: RELIGIOUS BELIEFS MUS...</td>\n",
       "      <td></td>\n",
       "      <td>left-news</td>\n",
       "      <td>Apr 25, 2015</td>\n",
       "      <td>Unknown</td>\n",
       "    </tr>\n",
       "    <tr>\n",
       "      <th>21857</th>\n",
       "      <td>(VIDEO)ICE PROTECTING OBAMA: WON’T RELEASE NAM...</td>\n",
       "      <td></td>\n",
       "      <td>left-news</td>\n",
       "      <td>Apr 14, 2015</td>\n",
       "      <td>Unknown</td>\n",
       "    </tr>\n",
       "    <tr>\n",
       "      <th>21873</th>\n",
       "      <td>(VIDEO) HYSTERICAL SNL TAKE ON HILLARY’S ANNOU...</td>\n",
       "      <td></td>\n",
       "      <td>left-news</td>\n",
       "      <td>Apr 12, 2015</td>\n",
       "      <td>Unknown</td>\n",
       "    </tr>\n",
       "  </tbody>\n",
       "</table>\n",
       "</div>"
      ],
      "text/plain": [
       "                                                   title text    subject  \\\n",
       "21816  BALTIMORE BURNS: MARYLAND GOVERNOR BRINGS IN N...       left-news   \n",
       "21826  FULL VIDEO: THE BLOCKBUSTER INVESTIGATION INTO...       left-news   \n",
       "21827  (VIDEO) HILLARY CLINTON: RELIGIOUS BELIEFS MUS...       left-news   \n",
       "21857  (VIDEO)ICE PROTECTING OBAMA: WON’T RELEASE NAM...       left-news   \n",
       "21873  (VIDEO) HYSTERICAL SNL TAKE ON HILLARY’S ANNOU...       left-news   \n",
       "\n",
       "               date publisher  \n",
       "21816  Apr 27, 2015   Unknown  \n",
       "21826  Apr 25, 2015   Unknown  \n",
       "21827  Apr 25, 2015   Unknown  \n",
       "21857  Apr 14, 2015   Unknown  \n",
       "21873  Apr 12, 2015   Unknown  "
      ]
     },
     "execution_count": 34,
     "metadata": {},
     "output_type": "execute_result"
    }
   ],
   "source": [
    "# Checking for the same in fake news\n",
    "empty_fake_index = [\n",
    "    index for index, text in enumerate(df_fake.text.values)\n",
    "    if str(text).strip() == ''\n",
    "]\n",
    "print(f\"No of empty rows: {len(empty_fake_index)}\")\n",
    "df_fake.iloc[empty_fake_index].tail()"
   ]
  },
  {
   "cell_type": "markdown",
   "metadata": {},
   "source": [
    "Total 630 rows which has text column empty<br>\n",
    "Instead having all news in title column - merging title values to text column<br>\n",
    "Making Full-News as 'text' single column will solve this problem<br>"
   ]
  },
  {
   "cell_type": "code",
   "execution_count": 33,
   "metadata": {
    "ExecuteTime": {
     "end_time": "2021-04-22T14:57:58.570378Z",
     "start_time": "2021-04-22T14:57:58.551388Z"
    }
   },
   "outputs": [],
   "source": [
    "# First Let's make single dataset for both kaggle source\n",
    "# Two different files for binary classification\n",
    "# Adding feature 'label'\n",
    "# Real = 1 & Fake = 0\n",
    "df_real['label'] = 1\n",
    "df_fake['label'] = 0"
   ]
  },
  {
   "cell_type": "code",
   "execution_count": 35,
   "metadata": {
    "ExecuteTime": {
     "end_time": "2021-04-23T07:23:29.532979Z",
     "start_time": "2021-04-23T07:23:29.490937Z"
    }
   },
   "outputs": [
    {
     "data": {
      "text/html": [
       "<div>\n",
       "<style scoped>\n",
       "    .dataframe tbody tr th:only-of-type {\n",
       "        vertical-align: middle;\n",
       "    }\n",
       "\n",
       "    .dataframe tbody tr th {\n",
       "        vertical-align: top;\n",
       "    }\n",
       "\n",
       "    .dataframe thead th {\n",
       "        text-align: right;\n",
       "    }\n",
       "</style>\n",
       "<table border=\"1\" class=\"dataframe\">\n",
       "  <thead>\n",
       "    <tr style=\"text-align: right;\">\n",
       "      <th></th>\n",
       "      <th>title</th>\n",
       "      <th>text</th>\n",
       "      <th>subject</th>\n",
       "      <th>date</th>\n",
       "      <th>publisher</th>\n",
       "    </tr>\n",
       "  </thead>\n",
       "  <tbody>\n",
       "    <tr>\n",
       "      <th>0</th>\n",
       "      <td>As U.S. budget fight looms, Republicans flip t...</td>\n",
       "      <td>The head of a conservative Republican faction...</td>\n",
       "      <td>politicsNews</td>\n",
       "      <td>December 31, 2017</td>\n",
       "      <td>WASHINGTON (Reuters)</td>\n",
       "    </tr>\n",
       "    <tr>\n",
       "      <th>1</th>\n",
       "      <td>U.S. military to accept transgender recruits o...</td>\n",
       "      <td>Transgender people will be allowed for the fi...</td>\n",
       "      <td>politicsNews</td>\n",
       "      <td>December 29, 2017</td>\n",
       "      <td>WASHINGTON (Reuters)</td>\n",
       "    </tr>\n",
       "    <tr>\n",
       "      <th>2</th>\n",
       "      <td>Senior U.S. Republican senator: 'Let Mr. Muell...</td>\n",
       "      <td>The special counsel investigation of links be...</td>\n",
       "      <td>politicsNews</td>\n",
       "      <td>December 31, 2017</td>\n",
       "      <td>WASHINGTON (Reuters)</td>\n",
       "    </tr>\n",
       "    <tr>\n",
       "      <th>3</th>\n",
       "      <td>FBI Russia probe helped by Australian diplomat...</td>\n",
       "      <td>Trump campaign adviser George Papadopoulos to...</td>\n",
       "      <td>politicsNews</td>\n",
       "      <td>December 30, 2017</td>\n",
       "      <td>WASHINGTON (Reuters)</td>\n",
       "    </tr>\n",
       "    <tr>\n",
       "      <th>4</th>\n",
       "      <td>Trump wants Postal Service to charge 'much mor...</td>\n",
       "      <td>President Donald Trump called on the U.S. Pos...</td>\n",
       "      <td>politicsNews</td>\n",
       "      <td>December 29, 2017</td>\n",
       "      <td>SEATTLE/WASHINGTON (Reuters)</td>\n",
       "    </tr>\n",
       "  </tbody>\n",
       "</table>\n",
       "</div>"
      ],
      "text/plain": [
       "                                               title  \\\n",
       "0  As U.S. budget fight looms, Republicans flip t...   \n",
       "1  U.S. military to accept transgender recruits o...   \n",
       "2  Senior U.S. Republican senator: 'Let Mr. Muell...   \n",
       "3  FBI Russia probe helped by Australian diplomat...   \n",
       "4  Trump wants Postal Service to charge 'much mor...   \n",
       "\n",
       "                                                text       subject  \\\n",
       "0   The head of a conservative Republican faction...  politicsNews   \n",
       "1   Transgender people will be allowed for the fi...  politicsNews   \n",
       "2   The special counsel investigation of links be...  politicsNews   \n",
       "3   Trump campaign adviser George Papadopoulos to...  politicsNews   \n",
       "4   President Donald Trump called on the U.S. Pos...  politicsNews   \n",
       "\n",
       "                 date                     publisher  \n",
       "0  December 31, 2017           WASHINGTON (Reuters)  \n",
       "1  December 29, 2017           WASHINGTON (Reuters)  \n",
       "2  December 31, 2017           WASHINGTON (Reuters)  \n",
       "3  December 30, 2017           WASHINGTON (Reuters)  \n",
       "4  December 29, 2017   SEATTLE/WASHINGTON (Reuters)  "
      ]
     },
     "execution_count": 35,
     "metadata": {},
     "output_type": "execute_result"
    }
   ],
   "source": [
    "# Concatinating two kaggle source DataSet\n",
    "df = pd.concat([df_real, df_fake]).reset_index(drop=True)\n",
    "df.head()"
   ]
  },
  {
   "cell_type": "code",
   "execution_count": 36,
   "metadata": {
    "ExecuteTime": {
     "end_time": "2021-04-23T07:23:30.665825Z",
     "start_time": "2021-04-23T07:23:30.500822Z"
    }
   },
   "outputs": [
    {
     "data": {
      "text/html": [
       "<div>\n",
       "<style scoped>\n",
       "    .dataframe tbody tr th:only-of-type {\n",
       "        vertical-align: middle;\n",
       "    }\n",
       "\n",
       "    .dataframe tbody tr th {\n",
       "        vertical-align: top;\n",
       "    }\n",
       "\n",
       "    .dataframe thead th {\n",
       "        text-align: right;\n",
       "    }\n",
       "</style>\n",
       "<table border=\"1\" class=\"dataframe\">\n",
       "  <thead>\n",
       "    <tr style=\"text-align: right;\">\n",
       "      <th></th>\n",
       "      <th>title</th>\n",
       "      <th>text</th>\n",
       "      <th>subject</th>\n",
       "      <th>date</th>\n",
       "      <th>publisher</th>\n",
       "    </tr>\n",
       "  </thead>\n",
       "  <tbody>\n",
       "    <tr>\n",
       "      <th>0</th>\n",
       "      <td>As U.S. budget fight looms, Republicans flip t...</td>\n",
       "      <td>As U.S. budget fight looms, Republicans flip t...</td>\n",
       "      <td>politicsNews</td>\n",
       "      <td>December 31, 2017</td>\n",
       "      <td>WASHINGTON (Reuters)</td>\n",
       "    </tr>\n",
       "    <tr>\n",
       "      <th>1</th>\n",
       "      <td>U.S. military to accept transgender recruits o...</td>\n",
       "      <td>U.S. military to accept transgender recruits o...</td>\n",
       "      <td>politicsNews</td>\n",
       "      <td>December 29, 2017</td>\n",
       "      <td>WASHINGTON (Reuters)</td>\n",
       "    </tr>\n",
       "    <tr>\n",
       "      <th>2</th>\n",
       "      <td>Senior U.S. Republican senator: 'Let Mr. Muell...</td>\n",
       "      <td>Senior U.S. Republican senator: 'Let Mr. Muell...</td>\n",
       "      <td>politicsNews</td>\n",
       "      <td>December 31, 2017</td>\n",
       "      <td>WASHINGTON (Reuters)</td>\n",
       "    </tr>\n",
       "    <tr>\n",
       "      <th>3</th>\n",
       "      <td>FBI Russia probe helped by Australian diplomat...</td>\n",
       "      <td>FBI Russia probe helped by Australian diplomat...</td>\n",
       "      <td>politicsNews</td>\n",
       "      <td>December 30, 2017</td>\n",
       "      <td>WASHINGTON (Reuters)</td>\n",
       "    </tr>\n",
       "    <tr>\n",
       "      <th>4</th>\n",
       "      <td>Trump wants Postal Service to charge 'much mor...</td>\n",
       "      <td>Trump wants Postal Service to charge 'much mor...</td>\n",
       "      <td>politicsNews</td>\n",
       "      <td>December 29, 2017</td>\n",
       "      <td>SEATTLE/WASHINGTON (Reuters)</td>\n",
       "    </tr>\n",
       "  </tbody>\n",
       "</table>\n",
       "</div>"
      ],
      "text/plain": [
       "                                               title  \\\n",
       "0  As U.S. budget fight looms, Republicans flip t...   \n",
       "1  U.S. military to accept transgender recruits o...   \n",
       "2  Senior U.S. Republican senator: 'Let Mr. Muell...   \n",
       "3  FBI Russia probe helped by Australian diplomat...   \n",
       "4  Trump wants Postal Service to charge 'much mor...   \n",
       "\n",
       "                                                text       subject  \\\n",
       "0  As U.S. budget fight looms, Republicans flip t...  politicsNews   \n",
       "1  U.S. military to accept transgender recruits o...  politicsNews   \n",
       "2  Senior U.S. Republican senator: 'Let Mr. Muell...  politicsNews   \n",
       "3  FBI Russia probe helped by Australian diplomat...  politicsNews   \n",
       "4  Trump wants Postal Service to charge 'much mor...  politicsNews   \n",
       "\n",
       "                 date                     publisher  \n",
       "0  December 31, 2017           WASHINGTON (Reuters)  \n",
       "1  December 29, 2017           WASHINGTON (Reuters)  \n",
       "2  December 31, 2017           WASHINGTON (Reuters)  \n",
       "3  December 30, 2017           WASHINGTON (Reuters)  \n",
       "4  December 29, 2017   SEATTLE/WASHINGTON (Reuters)  "
      ]
     },
     "execution_count": 36,
     "metadata": {},
     "output_type": "execute_result"
    }
   ],
   "source": [
    "df['text'] = df['title'] + ' ' + df['text']\n",
    "df.head()"
   ]
  },
  {
   "cell_type": "code",
   "execution_count": 37,
   "metadata": {
    "ExecuteTime": {
     "end_time": "2021-04-23T07:23:32.032086Z",
     "start_time": "2021-04-23T07:23:31.971148Z"
    }
   },
   "outputs": [
    {
     "name": "stdout",
     "output_type": "stream",
     "text": [
      "\n",
      "---------------Kaggle Source---------------\n"
     ]
    },
    {
     "data": {
      "text/html": [
       "<style  type=\"text/css\" >\n",
       "    #T_cebc9261_a404_11eb_b992_5cbaef33bbd0 th {\n",
       "          text-align: left;\n",
       "    }#T_cebc9261_a404_11eb_b992_5cbaef33bbd0row0_col0,#T_cebc9261_a404_11eb_b992_5cbaef33bbd0row0_col1,#T_cebc9261_a404_11eb_b992_5cbaef33bbd0row1_col0,#T_cebc9261_a404_11eb_b992_5cbaef33bbd0row1_col1,#T_cebc9261_a404_11eb_b992_5cbaef33bbd0row2_col0,#T_cebc9261_a404_11eb_b992_5cbaef33bbd0row2_col1,#T_cebc9261_a404_11eb_b992_5cbaef33bbd0row3_col0,#T_cebc9261_a404_11eb_b992_5cbaef33bbd0row3_col1,#T_cebc9261_a404_11eb_b992_5cbaef33bbd0row4_col0,#T_cebc9261_a404_11eb_b992_5cbaef33bbd0row4_col1{\n",
       "            text-align:  left;\n",
       "        }</style><table id=\"T_cebc9261_a404_11eb_b992_5cbaef33bbd0\" ><thead>    <tr>        <th class=\"col_heading level0 col0\" >Attribute Information</th>        <th class=\"col_heading level0 col1\" >Values</th>    </tr></thead><tbody>\n",
       "                <tr>\n",
       "                                <td id=\"T_cebc9261_a404_11eb_b992_5cbaef33bbd0row0_col0\" class=\"data row0 col0\" >title</td>\n",
       "                        <td id=\"T_cebc9261_a404_11eb_b992_5cbaef33bbd0row0_col1\" class=\"data row0 col1\" >The title of the article</td>\n",
       "            </tr>\n",
       "            <tr>\n",
       "                                <td id=\"T_cebc9261_a404_11eb_b992_5cbaef33bbd0row1_col0\" class=\"data row1 col0\" >text</td>\n",
       "                        <td id=\"T_cebc9261_a404_11eb_b992_5cbaef33bbd0row1_col1\" class=\"data row1 col1\" >The text of the article</td>\n",
       "            </tr>\n",
       "            <tr>\n",
       "                                <td id=\"T_cebc9261_a404_11eb_b992_5cbaef33bbd0row2_col0\" class=\"data row2 col0\" >subject</td>\n",
       "                        <td id=\"T_cebc9261_a404_11eb_b992_5cbaef33bbd0row2_col1\" class=\"data row2 col1\" >The subject of the article</td>\n",
       "            </tr>\n",
       "            <tr>\n",
       "                                <td id=\"T_cebc9261_a404_11eb_b992_5cbaef33bbd0row3_col0\" class=\"data row3 col0\" >date</td>\n",
       "                        <td id=\"T_cebc9261_a404_11eb_b992_5cbaef33bbd0row3_col1\" class=\"data row3 col1\" >The date at which the article was posted</td>\n",
       "            </tr>\n",
       "            <tr>\n",
       "                                <td id=\"T_cebc9261_a404_11eb_b992_5cbaef33bbd0row4_col0\" class=\"data row4 col0\" >label</td>\n",
       "                        <td id=\"T_cebc9261_a404_11eb_b992_5cbaef33bbd0row4_col1\" class=\"data row4 col1\" >Fake=0/Real=1</td>\n",
       "            </tr>\n",
       "    </tbody></table>"
      ],
      "text/plain": [
       "<pandas.io.formats.style.Styler at 0x1f10853d9d0>"
      ]
     },
     "execution_count": 37,
     "metadata": {},
     "output_type": "execute_result"
    }
   ],
   "source": [
    "print('\\n' + 15 * '-' + 'Kaggle Source' + 15 * '-')\n",
    "my_dict = {\n",
    "    'title': 'The title of the article',\n",
    "    'text': 'The text of the article',\n",
    "    'subject': 'The subject of the article',\n",
    "    'date': 'The date at which the article was posted',\n",
    "    'label': 'Fake=0/Real=1'\n",
    "}\n",
    "df_attr = pd.DataFrame(list(my_dict.items()),\n",
    "                       columns=['Attribute Information', 'Values'])\n",
    "\n",
    "df_attr.style.hide_index().set_table_styles([\n",
    "    dict(selector='th', props=[('text-align', 'left')])\n",
    "]).set_properties(**{'text-align': 'left'})"
   ]
  },
  {
   "cell_type": "code",
   "execution_count": 38,
   "metadata": {
    "ExecuteTime": {
     "end_time": "2021-04-23T07:23:32.870501Z",
     "start_time": "2021-04-23T07:23:32.852460Z"
    }
   },
   "outputs": [
    {
     "name": "stdout",
     "output_type": "stream",
     "text": [
      "\n",
      "---------------Flair Source---------------\n"
     ]
    },
    {
     "data": {
      "text/html": [
       "<style  type=\"text/css\" >\n",
       "    #T_cf3c2f93_a404_11eb_8632_5cbaef33bbd0 th {\n",
       "          text-align: left;\n",
       "    }#T_cf3c2f93_a404_11eb_8632_5cbaef33bbd0row0_col0,#T_cf3c2f93_a404_11eb_8632_5cbaef33bbd0row0_col1,#T_cf3c2f93_a404_11eb_8632_5cbaef33bbd0row1_col0,#T_cf3c2f93_a404_11eb_8632_5cbaef33bbd0row1_col1,#T_cf3c2f93_a404_11eb_8632_5cbaef33bbd0row2_col0,#T_cf3c2f93_a404_11eb_8632_5cbaef33bbd0row2_col1,#T_cf3c2f93_a404_11eb_8632_5cbaef33bbd0row3_col0,#T_cf3c2f93_a404_11eb_8632_5cbaef33bbd0row3_col1{\n",
       "            text-align:  left;\n",
       "        }</style><table id=\"T_cf3c2f93_a404_11eb_8632_5cbaef33bbd0\" ><thead>    <tr>        <th class=\"col_heading level0 col0\" >Attribute Information</th>        <th class=\"col_heading level0 col1\" >Values</th>    </tr></thead><tbody>\n",
       "                <tr>\n",
       "                                <td id=\"T_cf3c2f93_a404_11eb_8632_5cbaef33bbd0row0_col0\" class=\"data row0 col0\" >id</td>\n",
       "                        <td id=\"T_cf3c2f93_a404_11eb_8632_5cbaef33bbd0row0_col1\" class=\"data row0 col1\" >Unique Number</td>\n",
       "            </tr>\n",
       "            <tr>\n",
       "                                <td id=\"T_cf3c2f93_a404_11eb_8632_5cbaef33bbd0row1_col0\" class=\"data row1 col0\" >title</td>\n",
       "                        <td id=\"T_cf3c2f93_a404_11eb_8632_5cbaef33bbd0row1_col1\" class=\"data row1 col1\" >The title of the article</td>\n",
       "            </tr>\n",
       "            <tr>\n",
       "                                <td id=\"T_cf3c2f93_a404_11eb_8632_5cbaef33bbd0row2_col0\" class=\"data row2 col0\" >text</td>\n",
       "                        <td id=\"T_cf3c2f93_a404_11eb_8632_5cbaef33bbd0row2_col1\" class=\"data row2 col1\" >The text of the article</td>\n",
       "            </tr>\n",
       "            <tr>\n",
       "                                <td id=\"T_cf3c2f93_a404_11eb_8632_5cbaef33bbd0row3_col0\" class=\"data row3 col0\" >label</td>\n",
       "                        <td id=\"T_cf3c2f93_a404_11eb_8632_5cbaef33bbd0row3_col1\" class=\"data row3 col1\" >Fake=FAKE/Real=REAL</td>\n",
       "            </tr>\n",
       "    </tbody></table>"
      ],
      "text/plain": [
       "<pandas.io.formats.style.Styler at 0x1f1074dc7f0>"
      ]
     },
     "execution_count": 38,
     "metadata": {},
     "output_type": "execute_result"
    }
   ],
   "source": [
    "print('\\n' + 15 * '-' + 'Flair Source' + 15 * '-')\n",
    "my_dict = {\n",
    "    'id': 'Unique Number',\n",
    "    'title': 'The title of the article',\n",
    "    'text': 'The text of the article',\n",
    "    'label': 'Fake=FAKE/Real=REAL'\n",
    "}\n",
    "df_attr = pd.DataFrame(list(my_dict.items()),\n",
    "                       columns=['Attribute Information', 'Values'])\n",
    "\n",
    "df_attr.style.hide_index().set_table_styles([\n",
    "    dict(selector='th', props=[('text-align', 'left')])\n",
    "]).set_properties(**{'text-align': 'left'})"
   ]
  },
  {
   "cell_type": "code",
   "execution_count": 39,
   "metadata": {
    "ExecuteTime": {
     "end_time": "2021-04-23T07:23:36.446714Z",
     "start_time": "2021-04-23T07:23:36.408716Z"
    }
   },
   "outputs": [
    {
     "name": "stdout",
     "output_type": "stream",
     "text": [
      "\n",
      "---------------Kaggle Source---------------\n",
      "\n",
      "<class 'pandas.core.frame.DataFrame'>\n",
      "RangeIndex: 44898 entries, 0 to 44897\n",
      "Data columns (total 5 columns):\n",
      " #   Column     Non-Null Count  Dtype \n",
      "---  ------     --------------  ----- \n",
      " 0   title      44898 non-null  object\n",
      " 1   text       44898 non-null  object\n",
      " 2   subject    44898 non-null  object\n",
      " 3   date       44898 non-null  object\n",
      " 4   publisher  44898 non-null  object\n",
      "dtypes: object(5)\n",
      "memory usage: 1.7+ MB\n"
     ]
    }
   ],
   "source": [
    "print('\\n' + 15 * '-' + 'Kaggle Source' + 15 * '-' + '\\n')\n",
    "df.info()"
   ]
  },
  {
   "cell_type": "code",
   "execution_count": 40,
   "metadata": {
    "ExecuteTime": {
     "end_time": "2021-04-23T07:23:37.345989Z",
     "start_time": "2021-04-23T07:23:37.333000Z"
    }
   },
   "outputs": [
    {
     "name": "stdout",
     "output_type": "stream",
     "text": [
      "\n",
      "---------------Flair Source---------------\n",
      "\n",
      "<class 'pandas.core.frame.DataFrame'>\n",
      "RangeIndex: 6335 entries, 0 to 6334\n",
      "Data columns (total 4 columns):\n",
      " #   Column      Non-Null Count  Dtype \n",
      "---  ------      --------------  ----- \n",
      " 0   Unnamed: 0  6335 non-null   int64 \n",
      " 1   title       6335 non-null   object\n",
      " 2   text        6335 non-null   object\n",
      " 3   label       6335 non-null   object\n",
      "dtypes: int64(1), object(3)\n",
      "memory usage: 198.1+ KB\n"
     ]
    }
   ],
   "source": [
    "print('\\n' + 15 * '-' + 'Flair Source' + 15 * '-' + '\\n')\n",
    "df_flair.info()"
   ]
  },
  {
   "cell_type": "raw",
   "metadata": {},
   "source": [
    "We need to make Flair DataSet uniformity with kaggle"
   ]
  },
  {
   "cell_type": "code",
   "execution_count": 41,
   "metadata": {
    "ExecuteTime": {
     "end_time": "2021-04-23T07:23:40.534645Z",
     "start_time": "2021-04-23T07:23:40.525026Z"
    }
   },
   "outputs": [
    {
     "data": {
      "text/html": [
       "<div>\n",
       "<style scoped>\n",
       "    .dataframe tbody tr th:only-of-type {\n",
       "        vertical-align: middle;\n",
       "    }\n",
       "\n",
       "    .dataframe tbody tr th {\n",
       "        vertical-align: top;\n",
       "    }\n",
       "\n",
       "    .dataframe thead th {\n",
       "        text-align: right;\n",
       "    }\n",
       "</style>\n",
       "<table border=\"1\" class=\"dataframe\">\n",
       "  <thead>\n",
       "    <tr style=\"text-align: right;\">\n",
       "      <th></th>\n",
       "      <th>Unnamed: 0</th>\n",
       "      <th>title</th>\n",
       "      <th>text</th>\n",
       "      <th>label</th>\n",
       "    </tr>\n",
       "  </thead>\n",
       "  <tbody>\n",
       "    <tr>\n",
       "      <th>5130</th>\n",
       "      <td>9988</td>\n",
       "      <td>Lara Trump Implies FBI Letter Politically Moti...</td>\n",
       "      <td>Lara Trump Implies FBI Letter Politically Moti...</td>\n",
       "      <td>FAKE</td>\n",
       "    </tr>\n",
       "    <tr>\n",
       "      <th>2487</th>\n",
       "      <td>362</td>\n",
       "      <td>Defense Secretary Carter endorses 3-year timel...</td>\n",
       "      <td>Defense Secretary Ash Carter on Wednesday endo...</td>\n",
       "      <td>REAL</td>\n",
       "    </tr>\n",
       "    <tr>\n",
       "      <th>5400</th>\n",
       "      <td>5950</td>\n",
       "      <td>JUST IN: Trump Camp Caught On Cam Bragging Of ...</td>\n",
       "      <td>Comments \\nConsultant Jesse Benton of the pro-...</td>\n",
       "      <td>FAKE</td>\n",
       "    </tr>\n",
       "    <tr>\n",
       "      <th>2423</th>\n",
       "      <td>5819</td>\n",
       "      <td>Biden and Trump Agree to Fight Pistol Duel--Fi...</td>\n",
       "      <td>Thursday, 27 October 2016 Biden and Trump to D...</td>\n",
       "      <td>FAKE</td>\n",
       "    </tr>\n",
       "    <tr>\n",
       "      <th>3410</th>\n",
       "      <td>4481</td>\n",
       "      <td>Senate Debate Reveals Absurd Level Of Trade De...</td>\n",
       "      <td>The pair noted that although legislators are a...</td>\n",
       "      <td>REAL</td>\n",
       "    </tr>\n",
       "  </tbody>\n",
       "</table>\n",
       "</div>"
      ],
      "text/plain": [
       "      Unnamed: 0                                              title  \\\n",
       "5130        9988  Lara Trump Implies FBI Letter Politically Moti...   \n",
       "2487         362  Defense Secretary Carter endorses 3-year timel...   \n",
       "5400        5950  JUST IN: Trump Camp Caught On Cam Bragging Of ...   \n",
       "2423        5819  Biden and Trump Agree to Fight Pistol Duel--Fi...   \n",
       "3410        4481  Senate Debate Reveals Absurd Level Of Trade De...   \n",
       "\n",
       "                                                   text label  \n",
       "5130  Lara Trump Implies FBI Letter Politically Moti...  FAKE  \n",
       "2487  Defense Secretary Ash Carter on Wednesday endo...  REAL  \n",
       "5400  Comments \\nConsultant Jesse Benton of the pro-...  FAKE  \n",
       "2423  Thursday, 27 October 2016 Biden and Trump to D...  FAKE  \n",
       "3410  The pair noted that although legislators are a...  REAL  "
      ]
     },
     "execution_count": 41,
     "metadata": {},
     "output_type": "execute_result"
    }
   ],
   "source": [
    "# Let's Check Flair samples again\n",
    "df_flair.sample(5)"
   ]
  },
  {
   "cell_type": "code",
   "execution_count": 43,
   "metadata": {
    "ExecuteTime": {
     "end_time": "2021-04-23T07:23:45.903848Z",
     "start_time": "2021-04-23T07:23:45.881878Z"
    }
   },
   "outputs": [
    {
     "name": "stdout",
     "output_type": "stream",
     "text": [
      "No of empty rows: 36\n"
     ]
    },
    {
     "data": {
      "text/html": [
       "<div>\n",
       "<style scoped>\n",
       "    .dataframe tbody tr th:only-of-type {\n",
       "        vertical-align: middle;\n",
       "    }\n",
       "\n",
       "    .dataframe tbody tr th {\n",
       "        vertical-align: top;\n",
       "    }\n",
       "\n",
       "    .dataframe thead th {\n",
       "        text-align: right;\n",
       "    }\n",
       "</style>\n",
       "<table border=\"1\" class=\"dataframe\">\n",
       "  <thead>\n",
       "    <tr style=\"text-align: right;\">\n",
       "      <th></th>\n",
       "      <th>Unnamed: 0</th>\n",
       "      <th>title</th>\n",
       "      <th>text</th>\n",
       "      <th>label</th>\n",
       "    </tr>\n",
       "  </thead>\n",
       "  <tbody>\n",
       "    <tr>\n",
       "      <th>5699</th>\n",
       "      <td>9467</td>\n",
       "      <td>A Fifth Clinton Presidency? Hill, No!</td>\n",
       "      <td></td>\n",
       "      <td>FAKE</td>\n",
       "    </tr>\n",
       "    <tr>\n",
       "      <th>5772</th>\n",
       "      <td>5324</td>\n",
       "      <td>Huma’s Weiner Dogs Hillary</td>\n",
       "      <td></td>\n",
       "      <td>FAKE</td>\n",
       "    </tr>\n",
       "    <tr>\n",
       "      <th>6064</th>\n",
       "      <td>6127</td>\n",
       "      <td>Radio Derb: Peak White Guilt, PC Now To The LE...</td>\n",
       "      <td></td>\n",
       "      <td>FAKE</td>\n",
       "    </tr>\n",
       "    <tr>\n",
       "      <th>6175</th>\n",
       "      <td>7043</td>\n",
       "      <td>Hillary’s High Crimes &amp; Misdemeanors Threaten ...</td>\n",
       "      <td></td>\n",
       "      <td>FAKE</td>\n",
       "    </tr>\n",
       "    <tr>\n",
       "      <th>6328</th>\n",
       "      <td>9337</td>\n",
       "      <td>Radio Derb Is On The Air–Leonardo And Brazil’s...</td>\n",
       "      <td></td>\n",
       "      <td>FAKE</td>\n",
       "    </tr>\n",
       "  </tbody>\n",
       "</table>\n",
       "</div>"
      ],
      "text/plain": [
       "      Unnamed: 0                                              title text label\n",
       "5699        9467              A Fifth Clinton Presidency? Hill, No!       FAKE\n",
       "5772        5324                         Huma’s Weiner Dogs Hillary       FAKE\n",
       "6064        6127  Radio Derb: Peak White Guilt, PC Now To The LE...       FAKE\n",
       "6175        7043  Hillary’s High Crimes & Misdemeanors Threaten ...       FAKE\n",
       "6328        9337  Radio Derb Is On The Air–Leonardo And Brazil’s...       FAKE"
      ]
     },
     "execution_count": 43,
     "metadata": {},
     "output_type": "execute_result"
    }
   ],
   "source": [
    "# Here, No issue with text, No publisher included in that.\n",
    "# Let's check if any null text available\n",
    "empty_flair_index = [\n",
    "    index for index, text in enumerate(df_flair.text.values)\n",
    "    if str(text).strip() == ''\n",
    "]\n",
    "print(f\"No of empty rows: {len(empty_flair_index)}\")\n",
    "df_flair.iloc[empty_flair_index].tail()"
   ]
  },
  {
   "cell_type": "code",
   "execution_count": 44,
   "metadata": {
    "ExecuteTime": {
     "end_time": "2021-04-23T07:23:46.731253Z",
     "start_time": "2021-04-23T07:23:46.685268Z"
    }
   },
   "outputs": [
    {
     "data": {
      "text/html": [
       "<div>\n",
       "<style scoped>\n",
       "    .dataframe tbody tr th:only-of-type {\n",
       "        vertical-align: middle;\n",
       "    }\n",
       "\n",
       "    .dataframe tbody tr th {\n",
       "        vertical-align: top;\n",
       "    }\n",
       "\n",
       "    .dataframe thead th {\n",
       "        text-align: right;\n",
       "    }\n",
       "</style>\n",
       "<table border=\"1\" class=\"dataframe\">\n",
       "  <thead>\n",
       "    <tr style=\"text-align: right;\">\n",
       "      <th></th>\n",
       "      <th>Unnamed: 0</th>\n",
       "      <th>title</th>\n",
       "      <th>text</th>\n",
       "      <th>label</th>\n",
       "    </tr>\n",
       "  </thead>\n",
       "  <tbody>\n",
       "    <tr>\n",
       "      <th>0</th>\n",
       "      <td>8476</td>\n",
       "      <td>You Can Smell Hillary’s Fear</td>\n",
       "      <td>You Can Smell Hillary’s Fear Daniel Greenfield...</td>\n",
       "      <td>FAKE</td>\n",
       "    </tr>\n",
       "    <tr>\n",
       "      <th>1</th>\n",
       "      <td>10294</td>\n",
       "      <td>Watch The Exact Moment Paul Ryan Committed Pol...</td>\n",
       "      <td>Watch The Exact Moment Paul Ryan Committed Pol...</td>\n",
       "      <td>FAKE</td>\n",
       "    </tr>\n",
       "    <tr>\n",
       "      <th>2</th>\n",
       "      <td>3608</td>\n",
       "      <td>Kerry to go to Paris in gesture of sympathy</td>\n",
       "      <td>Kerry to go to Paris in gesture of sympathy U....</td>\n",
       "      <td>REAL</td>\n",
       "    </tr>\n",
       "    <tr>\n",
       "      <th>3</th>\n",
       "      <td>10142</td>\n",
       "      <td>Bernie supporters on Twitter erupt in anger ag...</td>\n",
       "      <td>Bernie supporters on Twitter erupt in anger ag...</td>\n",
       "      <td>FAKE</td>\n",
       "    </tr>\n",
       "    <tr>\n",
       "      <th>4</th>\n",
       "      <td>875</td>\n",
       "      <td>The Battle of New York: Why This Primary Matters</td>\n",
       "      <td>The Battle of New York: Why This Primary Matte...</td>\n",
       "      <td>REAL</td>\n",
       "    </tr>\n",
       "  </tbody>\n",
       "</table>\n",
       "</div>"
      ],
      "text/plain": [
       "   Unnamed: 0                                              title  \\\n",
       "0        8476                       You Can Smell Hillary’s Fear   \n",
       "1       10294  Watch The Exact Moment Paul Ryan Committed Pol...   \n",
       "2        3608        Kerry to go to Paris in gesture of sympathy   \n",
       "3       10142  Bernie supporters on Twitter erupt in anger ag...   \n",
       "4         875   The Battle of New York: Why This Primary Matters   \n",
       "\n",
       "                                                text label  \n",
       "0  You Can Smell Hillary’s Fear Daniel Greenfield...  FAKE  \n",
       "1  Watch The Exact Moment Paul Ryan Committed Pol...  FAKE  \n",
       "2  Kerry to go to Paris in gesture of sympathy U....  REAL  \n",
       "3  Bernie supporters on Twitter erupt in anger ag...  FAKE  \n",
       "4  The Battle of New York: Why This Primary Matte...  REAL  "
      ]
     },
     "execution_count": 44,
     "metadata": {},
     "output_type": "execute_result"
    }
   ],
   "source": [
    "# Same way merging title of the news with text column\n",
    "df_flair['text'] = df_flair['title'] + ' ' + df_flair['text']\n",
    "df_flair.head()"
   ]
  },
  {
   "cell_type": "code",
   "execution_count": 45,
   "metadata": {
    "ExecuteTime": {
     "end_time": "2021-04-23T07:23:48.904822Z",
     "start_time": "2021-04-23T07:23:48.893847Z"
    }
   },
   "outputs": [],
   "source": [
    "# As we have our dataframe with lables Fake=0 and Real=1\n",
    "# Need to map this dataset label with same, too\n",
    "labels = dict(FAKE=0, REAL=1)\n",
    "df_flair['label'] = df_flair['label'].map(labels)"
   ]
  },
  {
   "cell_type": "code",
   "execution_count": 46,
   "metadata": {
    "ExecuteTime": {
     "end_time": "2021-04-23T07:23:52.575112Z",
     "start_time": "2021-04-23T07:23:52.562758Z"
    }
   },
   "outputs": [
    {
     "data": {
      "text/html": [
       "<div>\n",
       "<style scoped>\n",
       "    .dataframe tbody tr th:only-of-type {\n",
       "        vertical-align: middle;\n",
       "    }\n",
       "\n",
       "    .dataframe tbody tr th {\n",
       "        vertical-align: top;\n",
       "    }\n",
       "\n",
       "    .dataframe thead th {\n",
       "        text-align: right;\n",
       "    }\n",
       "</style>\n",
       "<table border=\"1\" class=\"dataframe\">\n",
       "  <thead>\n",
       "    <tr style=\"text-align: right;\">\n",
       "      <th></th>\n",
       "      <th>Unnamed: 0</th>\n",
       "      <th>title</th>\n",
       "      <th>text</th>\n",
       "      <th>label</th>\n",
       "    </tr>\n",
       "  </thead>\n",
       "  <tbody>\n",
       "    <tr>\n",
       "      <th>0</th>\n",
       "      <td>8476</td>\n",
       "      <td>You Can Smell Hillary’s Fear</td>\n",
       "      <td>You Can Smell Hillary’s Fear Daniel Greenfield...</td>\n",
       "      <td>0</td>\n",
       "    </tr>\n",
       "    <tr>\n",
       "      <th>1</th>\n",
       "      <td>10294</td>\n",
       "      <td>Watch The Exact Moment Paul Ryan Committed Pol...</td>\n",
       "      <td>Watch The Exact Moment Paul Ryan Committed Pol...</td>\n",
       "      <td>0</td>\n",
       "    </tr>\n",
       "    <tr>\n",
       "      <th>2</th>\n",
       "      <td>3608</td>\n",
       "      <td>Kerry to go to Paris in gesture of sympathy</td>\n",
       "      <td>Kerry to go to Paris in gesture of sympathy U....</td>\n",
       "      <td>1</td>\n",
       "    </tr>\n",
       "    <tr>\n",
       "      <th>3</th>\n",
       "      <td>10142</td>\n",
       "      <td>Bernie supporters on Twitter erupt in anger ag...</td>\n",
       "      <td>Bernie supporters on Twitter erupt in anger ag...</td>\n",
       "      <td>0</td>\n",
       "    </tr>\n",
       "    <tr>\n",
       "      <th>4</th>\n",
       "      <td>875</td>\n",
       "      <td>The Battle of New York: Why This Primary Matters</td>\n",
       "      <td>The Battle of New York: Why This Primary Matte...</td>\n",
       "      <td>1</td>\n",
       "    </tr>\n",
       "  </tbody>\n",
       "</table>\n",
       "</div>"
      ],
      "text/plain": [
       "   Unnamed: 0                                              title  \\\n",
       "0        8476                       You Can Smell Hillary’s Fear   \n",
       "1       10294  Watch The Exact Moment Paul Ryan Committed Pol...   \n",
       "2        3608        Kerry to go to Paris in gesture of sympathy   \n",
       "3       10142  Bernie supporters on Twitter erupt in anger ag...   \n",
       "4         875   The Battle of New York: Why This Primary Matters   \n",
       "\n",
       "                                                text  label  \n",
       "0  You Can Smell Hillary’s Fear Daniel Greenfield...      0  \n",
       "1  Watch The Exact Moment Paul Ryan Committed Pol...      0  \n",
       "2  Kerry to go to Paris in gesture of sympathy U....      1  \n",
       "3  Bernie supporters on Twitter erupt in anger ag...      0  \n",
       "4  The Battle of New York: Why This Primary Matte...      1  "
      ]
     },
     "execution_count": 46,
     "metadata": {},
     "output_type": "execute_result"
    }
   ],
   "source": [
    "df_flair.head()"
   ]
  },
  {
   "cell_type": "code",
   "execution_count": 47,
   "metadata": {
    "ExecuteTime": {
     "end_time": "2021-04-23T07:23:53.404084Z",
     "start_time": "2021-04-23T07:23:53.375564Z"
    }
   },
   "outputs": [
    {
     "data": {
      "text/html": [
       "<div>\n",
       "<style scoped>\n",
       "    .dataframe tbody tr th:only-of-type {\n",
       "        vertical-align: middle;\n",
       "    }\n",
       "\n",
       "    .dataframe tbody tr th {\n",
       "        vertical-align: top;\n",
       "    }\n",
       "\n",
       "    .dataframe thead th {\n",
       "        text-align: right;\n",
       "    }\n",
       "</style>\n",
       "<table border=\"1\" class=\"dataframe\">\n",
       "  <thead>\n",
       "    <tr style=\"text-align: right;\">\n",
       "      <th></th>\n",
       "      <th>text</th>\n",
       "      <th>label</th>\n",
       "    </tr>\n",
       "  </thead>\n",
       "  <tbody>\n",
       "    <tr>\n",
       "      <th>0</th>\n",
       "      <td>As U.S. budget fight looms, Republicans flip t...</td>\n",
       "      <td>NaN</td>\n",
       "    </tr>\n",
       "    <tr>\n",
       "      <th>1</th>\n",
       "      <td>U.S. military to accept transgender recruits o...</td>\n",
       "      <td>NaN</td>\n",
       "    </tr>\n",
       "    <tr>\n",
       "      <th>2</th>\n",
       "      <td>Senior U.S. Republican senator: 'Let Mr. Muell...</td>\n",
       "      <td>NaN</td>\n",
       "    </tr>\n",
       "    <tr>\n",
       "      <th>3</th>\n",
       "      <td>FBI Russia probe helped by Australian diplomat...</td>\n",
       "      <td>NaN</td>\n",
       "    </tr>\n",
       "    <tr>\n",
       "      <th>4</th>\n",
       "      <td>Trump wants Postal Service to charge 'much mor...</td>\n",
       "      <td>NaN</td>\n",
       "    </tr>\n",
       "    <tr>\n",
       "      <th>...</th>\n",
       "      <td>...</td>\n",
       "      <td>...</td>\n",
       "    </tr>\n",
       "    <tr>\n",
       "      <th>51228</th>\n",
       "      <td>State Department says it can't find emails fro...</td>\n",
       "      <td>1.0</td>\n",
       "    </tr>\n",
       "    <tr>\n",
       "      <th>51229</th>\n",
       "      <td>The ‘P’ in PBS Should Stand for ‘Plutocratic’ ...</td>\n",
       "      <td>0.0</td>\n",
       "    </tr>\n",
       "    <tr>\n",
       "      <th>51230</th>\n",
       "      <td>Anti-Trump Protesters Are Tools of the Oligarc...</td>\n",
       "      <td>0.0</td>\n",
       "    </tr>\n",
       "    <tr>\n",
       "      <th>51231</th>\n",
       "      <td>In Ethiopia, Obama seeks progress on peace, se...</td>\n",
       "      <td>1.0</td>\n",
       "    </tr>\n",
       "    <tr>\n",
       "      <th>51232</th>\n",
       "      <td>Jeb Bush Is Suddenly Attacking Trump. Here's W...</td>\n",
       "      <td>1.0</td>\n",
       "    </tr>\n",
       "  </tbody>\n",
       "</table>\n",
       "<p>51233 rows × 2 columns</p>\n",
       "</div>"
      ],
      "text/plain": [
       "                                                    text  label\n",
       "0      As U.S. budget fight looms, Republicans flip t...    NaN\n",
       "1      U.S. military to accept transgender recruits o...    NaN\n",
       "2      Senior U.S. Republican senator: 'Let Mr. Muell...    NaN\n",
       "3      FBI Russia probe helped by Australian diplomat...    NaN\n",
       "4      Trump wants Postal Service to charge 'much mor...    NaN\n",
       "...                                                  ...    ...\n",
       "51228  State Department says it can't find emails fro...    1.0\n",
       "51229  The ‘P’ in PBS Should Stand for ‘Plutocratic’ ...    0.0\n",
       "51230  Anti-Trump Protesters Are Tools of the Oligarc...    0.0\n",
       "51231  In Ethiopia, Obama seeks progress on peace, se...    1.0\n",
       "51232  Jeb Bush Is Suddenly Attacking Trump. Here's W...    1.0\n",
       "\n",
       "[51233 rows x 2 columns]"
      ]
     },
     "execution_count": 47,
     "metadata": {},
     "output_type": "execute_result"
    }
   ],
   "source": [
    "# Time to remove unnecessary columns and merging all dataframes\n",
    "df = df.drop([\"subject\", \"date\", \"title\", \"publisher\"], axis=1)\n",
    "df_flair = df_flair.drop([\"Unnamed: 0\", \"title\"], axis=1)\n",
    "df = df.append(df_flair, ignore_index=True)\n",
    "df"
   ]
  },
  {
   "cell_type": "markdown",
   "metadata": {},
   "source": [
    "### Handling Duplicate Values"
   ]
  },
  {
   "cell_type": "code",
   "execution_count": 48,
   "metadata": {
    "ExecuteTime": {
     "end_time": "2021-04-23T07:23:54.603092Z",
     "start_time": "2021-04-23T07:23:54.123727Z"
    }
   },
   "outputs": [
    {
     "data": {
      "text/plain": [
       "text     45410\n",
       "label        2\n",
       "dtype: int64"
      ]
     },
     "execution_count": 48,
     "metadata": {},
     "output_type": "execute_result"
    }
   ],
   "source": [
    "df.nunique()"
   ]
  },
  {
   "cell_type": "code",
   "execution_count": 49,
   "metadata": {
    "ExecuteTime": {
     "end_time": "2021-04-23T07:23:55.496392Z",
     "start_time": "2021-04-23T07:23:55.341483Z"
    }
   },
   "outputs": [
    {
     "data": {
      "text/plain": [
       "False    45410\n",
       "True      5823\n",
       "Name: text, dtype: int64"
      ]
     },
     "execution_count": 49,
     "metadata": {},
     "output_type": "execute_result"
    }
   ],
   "source": [
    "df['text'].duplicated().value_counts()"
   ]
  },
  {
   "cell_type": "code",
   "execution_count": 50,
   "metadata": {
    "ExecuteTime": {
     "end_time": "2021-04-23T07:23:56.256657Z",
     "start_time": "2021-04-23T07:23:56.226633Z"
    }
   },
   "outputs": [
    {
     "data": {
      "text/html": [
       "<div>\n",
       "<style scoped>\n",
       "    .dataframe tbody tr th:only-of-type {\n",
       "        vertical-align: middle;\n",
       "    }\n",
       "\n",
       "    .dataframe tbody tr th {\n",
       "        vertical-align: top;\n",
       "    }\n",
       "\n",
       "    .dataframe thead th {\n",
       "        text-align: right;\n",
       "    }\n",
       "</style>\n",
       "<table border=\"1\" class=\"dataframe\">\n",
       "  <thead>\n",
       "    <tr style=\"text-align: right;\">\n",
       "      <th></th>\n",
       "      <th>text</th>\n",
       "      <th>label</th>\n",
       "    </tr>\n",
       "  </thead>\n",
       "  <tbody>\n",
       "    <tr>\n",
       "      <th>445</th>\n",
       "      <td>Senate tax bill stalls on deficit-focused 'tri...</td>\n",
       "      <td>NaN</td>\n",
       "    </tr>\n",
       "    <tr>\n",
       "      <th>778</th>\n",
       "      <td>Trump warns 'rogue regime' North Korea of grav...</td>\n",
       "      <td>NaN</td>\n",
       "    </tr>\n",
       "    <tr>\n",
       "      <th>892</th>\n",
       "      <td>Republicans unveil tax cut bill, but the hard ...</td>\n",
       "      <td>NaN</td>\n",
       "    </tr>\n",
       "    <tr>\n",
       "      <th>896</th>\n",
       "      <td>Trump taps Fed centrist Powell to lead U.S. ce...</td>\n",
       "      <td>NaN</td>\n",
       "    </tr>\n",
       "    <tr>\n",
       "      <th>974</th>\n",
       "      <td>Two ex-Trump aides charged in Russia probe, th...</td>\n",
       "      <td>NaN</td>\n",
       "    </tr>\n",
       "    <tr>\n",
       "      <th>...</th>\n",
       "      <td>...</td>\n",
       "      <td>...</td>\n",
       "    </tr>\n",
       "    <tr>\n",
       "      <th>50864</th>\n",
       "      <td>There’s a good reason protesters at the Univer...</td>\n",
       "      <td>1.0</td>\n",
       "    </tr>\n",
       "    <tr>\n",
       "      <th>50981</th>\n",
       "      <td>Biden Blames “Lazy American Women” For The Eco...</td>\n",
       "      <td>0.0</td>\n",
       "    </tr>\n",
       "    <tr>\n",
       "      <th>51046</th>\n",
       "      <td>Hillary’s “Big Tent” is Obama’s “Grand Bargain...</td>\n",
       "      <td>0.0</td>\n",
       "    </tr>\n",
       "    <tr>\n",
       "      <th>51125</th>\n",
       "      <td>ISIS uses an industrial dough kneader to kill ...</td>\n",
       "      <td>0.0</td>\n",
       "    </tr>\n",
       "    <tr>\n",
       "      <th>51131</th>\n",
       "      <td>North Korea Threatens ‘Sacred’ Nuclear War Aga...</td>\n",
       "      <td>0.0</td>\n",
       "    </tr>\n",
       "  </tbody>\n",
       "</table>\n",
       "<p>5823 rows × 2 columns</p>\n",
       "</div>"
      ],
      "text/plain": [
       "                                                    text  label\n",
       "445    Senate tax bill stalls on deficit-focused 'tri...    NaN\n",
       "778    Trump warns 'rogue regime' North Korea of grav...    NaN\n",
       "892    Republicans unveil tax cut bill, but the hard ...    NaN\n",
       "896    Trump taps Fed centrist Powell to lead U.S. ce...    NaN\n",
       "974    Two ex-Trump aides charged in Russia probe, th...    NaN\n",
       "...                                                  ...    ...\n",
       "50864  There’s a good reason protesters at the Univer...    1.0\n",
       "50981  Biden Blames “Lazy American Women” For The Eco...    0.0\n",
       "51046  Hillary’s “Big Tent” is Obama’s “Grand Bargain...    0.0\n",
       "51125  ISIS uses an industrial dough kneader to kill ...    0.0\n",
       "51131  North Korea Threatens ‘Sacred’ Nuclear War Aga...    0.0\n",
       "\n",
       "[5823 rows x 2 columns]"
      ]
     },
     "execution_count": 50,
     "metadata": {},
     "output_type": "execute_result"
    }
   ],
   "source": [
    "df[df['text'].duplicated() == True]"
   ]
  },
  {
   "cell_type": "code",
   "execution_count": 51,
   "metadata": {
    "ExecuteTime": {
     "end_time": "2021-04-23T07:23:57.022525Z",
     "start_time": "2021-04-23T07:23:57.008527Z"
    }
   },
   "outputs": [
    {
     "data": {
      "text/plain": [
       "\"Trump warns 'rogue regime' North Korea of grave danger  U.S. President Donald Trump arrived in China on Wednesday seeking help to rein in North Korea, telling the reclusive state’s leader he was putting his country in grave danger by developing nuclear weapons. Trump used some of his toughest language yet against North Korea in a wide-ranging address in Seoul that lodged specific accusations of chilling human rights abuses. He called on countries around the world to isolate Pyongyang by denying it “any form of support, supply or acceptance.” “Do not underestimate us and do not try us,” Trump told North Korea as he wrapped up a visit to South Korea with a speech to the National Assembly before heading to Beijing, where he was making his first official visit. Trump painted a dystopian picture of the reclusive North, saying people were suffering in “gulags” and some bribed government officials to work as “slaves” overseas rather than live under the government at home. He offered no evidence to support those accusations. Trump’s return to harsh, uncompromising language came a day after he appeared to dial back the bellicose rhetoric that had fueled fears across east Asia of the risk of military conflict. On Tuesday, Trump had even offered a diplomatic opening to Pyongyang to “make a deal.” He went mostly on the attack in Wednesday’s speech but did promise a “path to a much better future” if North Korea stopped developing ballistic missiles and agreed to “complete, verifiable and total denuclearization” – something Pyongyang has vowed never to do. “We will not allow American cities to be threatened with destruction. We will not be intimidated,” he told South Korean lawmakers. “And we will not let the worst atrocities in history be repeated here, on this ground we fought and died to secure.” The North defends its nuclear weapons and missile programs as a necessary defense against what it says are U.S. plans to invade. The United States, which has 28,500 troops in South Korea, a legacy of the 1950-53 Korean war, denies any such intention.     “The world cannot tolerate the menace of a rogue regime that threatens it with nuclear devastation,” Trump said, speaking as three U.S. aircraft carrier groups sailed to the Western Pacific for exercises - a rare show of such U.S. naval force in the region. ‘STATE VISIT-PLUS’ In Beijing, Trump and Chinese President Xi Jinping resumed their “bromance” struck in April at Trump’s Mar-a-Lago resort in Florida, making small talk as they toured the Forbidden City - which was shut down to tourists - with their wives before taking in a Chinese opera performance. While the sprawling palace complex in the political and cultural heart of Beijing is a regular stop for visiting dignitaries, it is rare for a Chinese leader to act as a personal escort, confirmation of the “state visit-plus” treatment that China had promised for Trump.   Trump has threatened action over China’s wide trade surplus with the United States and called on Beijing to do more to rein in ally and neighbor North Korea, but has expressed admiration for Xi and held off on imposing trade measures. During his two-day visit, Trump will ask China to abide by U.N. resolutions and cut financial links with North Korea, a senior White House official said on the plane from Seoul. He also plans to discuss with Xi the long-contentious trade imbalance, U.S. Commerce Secretary Wilbur Ross said at a ceremony with U.S. business leaders where $9 billion worth of deals were signed. The White House expects to announce deals in China this week worth more than $250 billion, Bloomberg reported, citing an administration official. Trump believes any talks with North Korea would require it to reduce threats, end provocations and move toward denuclearization, and that no deal can be achieved without denuclearization, the official added. Trump and Xi were scheduled to hold formal talks on Thursday. Before leaving for Beijing, Trump cited China as one of the countries that must fully enforce international sanctions against Pyongyang and downgrade diplomatic and commercial ties. “To those nations that choose to ignore this threat or, worse still, to enable it, the weight of this crisis is on your conscience,” he said. While Trump will try to convince Xi to squeeze North Korea further with steps such as limits on oil exports and financial transactions, it is not clear if Xi, who has just consolidated his power at a Communist Party congress, will agree to do more. China has repeatedly said its leverage over Pyongyang is exaggerated by the West and that it is already doing all it can to enforce sanctions. The Chinese Foreign Ministry said that China fully and strictly implements U.N. Security Council resolutions on North Korea, but will investigate if there have been any contraventions. During his speech in Seoul, Trump directed his words at North Korean leader Kim Jong Un. “The weapons that you are acquiring are not making you safer, they are putting your regime in grave danger,” he said. “Every step you take down this dark path increases the peril you face.” However Trump, whose strategy has stressed sanctions and military pressure instead of diplomacy, did not spell out any new approach. North Korea has made clear it has little interest in negotiations at least until it develops a nuclear-tipped missile capable of hitting the U.S. mainland, something U.S. intelligence officials say it may be just months away from achieving. “North Korea is a country ruled by a cult,” Trump said in a speech that was interrupted several times by applause and ended with a standing ovation.  He stopped short of repeating the derisive nickname “little Rocket Man” that he has used to describe the young North Korean leader. Kim, for his part, has called Trump “mentally deranged.” The speech came after Trump’s attempt to make an unannounced visit to the heavily fortified border separating North and South Korea was aborted when dense fog prevented his helicopter from landing, officials said. A visit to the DMZ, despite his aides’ earlier insistence he had no plans to go there, would have had the potential to further inflame tensions with North Korea. Arriving in Beijing on Wednesday, Trump and his wife Melania descended from a red-carpeted staircase rolled up to the main door of Air Force One. That was in contrast to a 2016 visit to China by his predecessor, Barack Obama, who was forced to exit his plane from a lower door in what was seen as a snub. And while in China, Trump will not be deterred from using Twitter, his favored form of communication, despite its being banned there, according to an administration official. “The president will tweet whatever he wants,” the official told reporters on Air Force One. “I’m sure we’ve got the gear aboard this airplane to make it happen.” \""
      ]
     },
     "execution_count": 51,
     "metadata": {},
     "output_type": "execute_result"
    }
   ],
   "source": [
    "df['text'].iloc[778]"
   ]
  },
  {
   "cell_type": "code",
   "execution_count": 52,
   "metadata": {
    "ExecuteTime": {
     "end_time": "2021-04-23T07:23:58.479423Z",
     "start_time": "2021-04-23T07:23:57.751772Z"
    }
   },
   "outputs": [
    {
     "name": "stdout",
     "output_type": "stream",
     "text": [
      "762\n",
      "778\n"
     ]
    }
   ],
   "source": [
    "for i in range(len(df)):\n",
    "    if df['text'].iloc[i] == df['text'].iloc[778]:\n",
    "        print(i)"
   ]
  },
  {
   "cell_type": "code",
   "execution_count": 53,
   "metadata": {
    "ExecuteTime": {
     "end_time": "2021-04-23T07:23:59.259260Z",
     "start_time": "2021-04-23T07:23:59.247262Z"
    }
   },
   "outputs": [
    {
     "data": {
      "text/plain": [
       "\"Trump warns 'rogue regime' North Korea of grave danger  U.S. President Donald Trump arrived in China on Wednesday seeking help to rein in North Korea, telling the reclusive state’s leader he was putting his country in grave danger by developing nuclear weapons. Trump used some of his toughest language yet against North Korea in a wide-ranging address in Seoul that lodged specific accusations of chilling human rights abuses. He called on countries around the world to isolate Pyongyang by denying it “any form of support, supply or acceptance.” “Do not underestimate us and do not try us,” Trump told North Korea as he wrapped up a visit to South Korea with a speech to the National Assembly before heading to Beijing, where he was making his first official visit. Trump painted a dystopian picture of the reclusive North, saying people were suffering in “gulags” and some bribed government officials to work as “slaves” overseas rather than live under the government at home. He offered no evidence to support those accusations. Trump’s return to harsh, uncompromising language came a day after he appeared to dial back the bellicose rhetoric that had fueled fears across east Asia of the risk of military conflict. On Tuesday, Trump had even offered a diplomatic opening to Pyongyang to “make a deal.” He went mostly on the attack in Wednesday’s speech but did promise a “path to a much better future” if North Korea stopped developing ballistic missiles and agreed to “complete, verifiable and total denuclearization” – something Pyongyang has vowed never to do. “We will not allow American cities to be threatened with destruction. We will not be intimidated,” he told South Korean lawmakers. “And we will not let the worst atrocities in history be repeated here, on this ground we fought and died to secure.” The North defends its nuclear weapons and missile programs as a necessary defense against what it says are U.S. plans to invade. The United States, which has 28,500 troops in South Korea, a legacy of the 1950-53 Korean war, denies any such intention.     “The world cannot tolerate the menace of a rogue regime that threatens it with nuclear devastation,” Trump said, speaking as three U.S. aircraft carrier groups sailed to the Western Pacific for exercises - a rare show of such U.S. naval force in the region. ‘STATE VISIT-PLUS’ In Beijing, Trump and Chinese President Xi Jinping resumed their “bromance” struck in April at Trump’s Mar-a-Lago resort in Florida, making small talk as they toured the Forbidden City - which was shut down to tourists - with their wives before taking in a Chinese opera performance. While the sprawling palace complex in the political and cultural heart of Beijing is a regular stop for visiting dignitaries, it is rare for a Chinese leader to act as a personal escort, confirmation of the “state visit-plus” treatment that China had promised for Trump.   Trump has threatened action over China’s wide trade surplus with the United States and called on Beijing to do more to rein in ally and neighbor North Korea, but has expressed admiration for Xi and held off on imposing trade measures. During his two-day visit, Trump will ask China to abide by U.N. resolutions and cut financial links with North Korea, a senior White House official said on the plane from Seoul. He also plans to discuss with Xi the long-contentious trade imbalance, U.S. Commerce Secretary Wilbur Ross said at a ceremony with U.S. business leaders where $9 billion worth of deals were signed. The White House expects to announce deals in China this week worth more than $250 billion, Bloomberg reported, citing an administration official. Trump believes any talks with North Korea would require it to reduce threats, end provocations and move toward denuclearization, and that no deal can be achieved without denuclearization, the official added. Trump and Xi were scheduled to hold formal talks on Thursday. Before leaving for Beijing, Trump cited China as one of the countries that must fully enforce international sanctions against Pyongyang and downgrade diplomatic and commercial ties. “To those nations that choose to ignore this threat or, worse still, to enable it, the weight of this crisis is on your conscience,” he said. While Trump will try to convince Xi to squeeze North Korea further with steps such as limits on oil exports and financial transactions, it is not clear if Xi, who has just consolidated his power at a Communist Party congress, will agree to do more. China has repeatedly said its leverage over Pyongyang is exaggerated by the West and that it is already doing all it can to enforce sanctions. The Chinese Foreign Ministry said that China fully and strictly implements U.N. Security Council resolutions on North Korea, but will investigate if there have been any contraventions. During his speech in Seoul, Trump directed his words at North Korean leader Kim Jong Un. “The weapons that you are acquiring are not making you safer, they are putting your regime in grave danger,” he said. “Every step you take down this dark path increases the peril you face.” However Trump, whose strategy has stressed sanctions and military pressure instead of diplomacy, did not spell out any new approach. North Korea has made clear it has little interest in negotiations at least until it develops a nuclear-tipped missile capable of hitting the U.S. mainland, something U.S. intelligence officials say it may be just months away from achieving. “North Korea is a country ruled by a cult,” Trump said in a speech that was interrupted several times by applause and ended with a standing ovation.  He stopped short of repeating the derisive nickname “little Rocket Man” that he has used to describe the young North Korean leader. Kim, for his part, has called Trump “mentally deranged.” The speech came after Trump’s attempt to make an unannounced visit to the heavily fortified border separating North and South Korea was aborted when dense fog prevented his helicopter from landing, officials said. A visit to the DMZ, despite his aides’ earlier insistence he had no plans to go there, would have had the potential to further inflame tensions with North Korea. Arriving in Beijing on Wednesday, Trump and his wife Melania descended from a red-carpeted staircase rolled up to the main door of Air Force One. That was in contrast to a 2016 visit to China by his predecessor, Barack Obama, who was forced to exit his plane from a lower door in what was seen as a snub. And while in China, Trump will not be deterred from using Twitter, his favored form of communication, despite its being banned there, according to an administration official. “The president will tweet whatever he wants,” the official told reporters on Air Force One. “I’m sure we’ve got the gear aboard this airplane to make it happen.” \""
      ]
     },
     "execution_count": 53,
     "metadata": {},
     "output_type": "execute_result"
    }
   ],
   "source": [
    "df['text'].iloc[762]"
   ]
  },
  {
   "cell_type": "code",
   "execution_count": 54,
   "metadata": {
    "ExecuteTime": {
     "end_time": "2021-04-23T07:24:00.345042Z",
     "start_time": "2021-04-23T07:23:59.990278Z"
    }
   },
   "outputs": [],
   "source": [
    "df.drop_duplicates(subset=['text'], inplace=True)"
   ]
  },
  {
   "cell_type": "code",
   "execution_count": 55,
   "metadata": {
    "ExecuteTime": {
     "end_time": "2021-04-23T07:24:01.091173Z",
     "start_time": "2021-04-23T07:24:01.063110Z"
    }
   },
   "outputs": [
    {
     "name": "stdout",
     "output_type": "stream",
     "text": [
      "<class 'pandas.core.frame.DataFrame'>\n",
      "Int64Index: 45410 entries, 0 to 51232\n",
      "Data columns (total 2 columns):\n",
      " #   Column  Non-Null Count  Dtype  \n",
      "---  ------  --------------  -----  \n",
      " 0   text    45410 non-null  object \n",
      " 1   label   6306 non-null   float64\n",
      "dtypes: float64(1), object(1)\n",
      "memory usage: 1.0+ MB\n"
     ]
    }
   ],
   "source": [
    "df.info()"
   ]
  },
  {
   "cell_type": "markdown",
   "metadata": {},
   "source": [
    "*As we are done with removing all the duplicate values in our dataset, we can go ahead with Language Cleaning, that is to remove special charecters, symbols, emois, URLs etc.*\n"
   ]
  },
  {
   "cell_type": "markdown",
   "metadata": {},
   "source": [
    "## Language Cleaning"
   ]
  },
  {
   "cell_type": "markdown",
   "metadata": {},
   "source": [
    "We remove urls (if any)<br>\n",
    "Perform decontractions<br>\n",
    "Non-acronize few popular words<br>\n",
    "Typos, slang and informal abbreviations<br>\n",
    "Character entity references<br>\n",
    "Remove HTML tags<br>\n",
    "Remove emoticons, symbols, pictoraphs, transport and map symbols & flags<br>\n",
    "Remove punctuations and all special characters<br>\n",
    "Remove stopwords"
   ]
  },
  {
   "cell_type": "code",
   "execution_count": 56,
   "metadata": {
    "ExecuteTime": {
     "end_time": "2021-04-23T07:24:01.837975Z",
     "start_time": "2021-04-23T07:24:01.823402Z"
    }
   },
   "outputs": [
    {
     "name": "stdout",
     "output_type": "stream",
     "text": [
      "{'needn', 're', \"weren't\", 'has', 'of', 've', 'had', 'her', \"should've\", \"you'd\", 'he', 'they', \"she's\", 'down', 'ma', \"wouldn't\", 'about', 'wouldn', 'your', \"won't\", 'can', 'wasn', 'all', 'because', \"doesn't\", 'yourselves', 'him', 'be', 'nor', 'who', 'or', 'and', 's', 'am', 'hadn', \"you've\", 'themselves', 'me', 'those', 'any', \"couldn't\", \"hadn't\", 'during', 'against', \"needn't\", 'just', 'yours', 'our', 'by', 'not', 'myself', 'an', 'were', 'being', 'itself', 'a', 'this', \"you'll\", 'while', 'once', \"wasn't\", \"hasn't\", 'from', 'will', 'ourselves', 'my', 'hers', 'at', 'll', 'most', 'for', 'shan', 'was', 'own', 'each', 'did', 'doing', 'further', 'is', 'over', 'here', 'doesn', 'where', 'his', 'yourself', 'so', 'both', 'ain', 'won', 'between', 'above', 'couldn', 'whom', 'such', 'with', 'she', 'isn', 'out', 'that', 'before', 'if', 'ours', 'on', 'too', 'd', 'into', 'we', 'their', 'below', 'off', 'why', 'should', \"aren't\", \"shouldn't\", 'does', 'again', 'o', \"you're\", \"mustn't\", 'more', 'mightn', 'which', 'now', 'there', 't', 'haven', 'very', \"shan't\", \"it's\", 'up', 'mustn', 'its', 'do', \"don't\", 'but', 'some', \"mightn't\", 'himself', 'after', 'weren', 'these', 'having', 'when', 'y', 'herself', 'to', \"isn't\", 'i', 'it', 'as', 'in', 'the', 'then', 'other', \"haven't\", 'only', 'hasn', 'you', 'theirs', 'them', 'under', 'few', 'aren', 'how', 'm', 'than', 'been', 'same', 'don', \"that'll\", 'until', 'through', \"didn't\", 'didn', 'have', 'are', 'shouldn', 'what', 'no'}\n"
     ]
    }
   ],
   "source": [
    "nltk_stopwords = stopwords.words('english')\n",
    "stopwords = set(nltk_stopwords)\n",
    "print(stopwords)"
   ]
  },
  {
   "cell_type": "code",
   "execution_count": 57,
   "metadata": {
    "ExecuteTime": {
     "end_time": "2021-04-23T07:24:02.564184Z",
     "start_time": "2021-04-23T07:24:02.549190Z"
    }
   },
   "outputs": [],
   "source": [
    "ps = PorterStemmer()\n",
    "lm = WordNetLemmatizer() "
   ]
  },
  {
   "cell_type": "code",
   "execution_count": 58,
   "metadata": {
    "ExecuteTime": {
     "end_time": "2021-04-23T07:24:03.374042Z",
     "start_time": "2021-04-23T07:24:03.346043Z"
    }
   },
   "outputs": [],
   "source": [
    "def clean_text(text):\n",
    "\n",
    "    text = re.sub(\"http\\S+\", '', str(text))\n",
    "\n",
    "    # Contractions ref: https://www.kaggle.com/gunesevitan/nlp-with-disaster-tweets-eda-cleaning-and-bert\n",
    "    text = re.sub(r\"he's\", \"he is\", str(text))\n",
    "    text = re.sub(r\"there's\", \"there is\", str(text))\n",
    "    text = re.sub(r\"We're\", \"We are\", str(text))\n",
    "    text = re.sub(r\"That's\", \"That is\", str(text))\n",
    "    text = re.sub(r\"won't\", \"will not\", str(text))\n",
    "    text = re.sub(r\"they're\", \"they are\", str(text))\n",
    "    text = re.sub(r\"Can't\", \"Cannot\", str(text))\n",
    "    text = re.sub(r\"wasn't\", \"was not\", str(text))\n",
    "    text = re.sub(r\"aren't\", \"are not\", str(text))\n",
    "    text = re.sub(r\"isn't\", \"is not\", str(text))\n",
    "    text = re.sub(r\"What's\", \"What is\", str(text))\n",
    "    text = re.sub(r\"haven't\", \"have not\", str(text))\n",
    "    text = re.sub(r\"hasn't\", \"has not\", str(text))\n",
    "    text = re.sub(r\"There's\", \"There is\", str(text))\n",
    "    text = re.sub(r\"He's\", \"He is\", str(text))\n",
    "    text = re.sub(r\"It's\", \"It is\", str(text))\n",
    "    text = re.sub(r\"You're\", \"You are\", str(text))\n",
    "    text = re.sub(r\"I'M\", \"I am\", str(text))\n",
    "    text = re.sub(r\"shouldn't\", \"should not\", str(text))\n",
    "    text = re.sub(r\"wouldn't\", \"would not\", str(text))\n",
    "    text = re.sub(r\"i'm\", \"I am\", str(text))\n",
    "    text = re.sub(r\"I'm\", \"I am\", str(text))\n",
    "    text = re.sub(r\"Isn't\", \"is not\", str(text))\n",
    "    text = re.sub(r\"Here's\", \"Here is\", str(text))\n",
    "    text = re.sub(r\"you've\", \"you have\", str(text))\n",
    "    text = re.sub(r\"we're\", \"we are\", str(text))\n",
    "    text = re.sub(r\"what's\", \"what is\", str(text))\n",
    "    text = re.sub(r\"couldn't\", \"could not\", str(text))\n",
    "    text = re.sub(r\"we've\", \"we have\", str(text))\n",
    "    text = re.sub(r\"who's\", \"who is\", str(text))\n",
    "    text = re.sub(r\"y'all\", \"you all\", str(text))\n",
    "    text = re.sub(r\"would've\", \"would have\", str(text))\n",
    "    text = re.sub(r\"it'll\", \"it will\", str(text))\n",
    "    text = re.sub(r\"we'll\", \"we will\", str(text))\n",
    "    text = re.sub(r\"We've\", \"We have\", str(text))\n",
    "    text = re.sub(r\"he'll\", \"he will\", str(text))\n",
    "    text = re.sub(r\"Y'all\", \"You all\", str(text))\n",
    "    text = re.sub(r\"Weren't\", \"Were not\", str(text))\n",
    "    text = re.sub(r\"Didn't\", \"Did not\", str(text))\n",
    "    text = re.sub(r\"they'll\", \"they will\", str(text))\n",
    "    text = re.sub(r\"they'd\", \"they would\", str(text))\n",
    "    text = re.sub(r\"DON'T\", \"DO NOT\", str(text))\n",
    "    text = re.sub(r\"they've\", \"they have\", str(text))\n",
    "    text = re.sub(r\"i'd\", \"I would\", str(text))\n",
    "    text = re.sub(r\"should've\", \"should have\", str(text))\n",
    "    text = re.sub(r\"where's\", \"where is\", str(text))\n",
    "    text = re.sub(r\"we'd\", \"we would\", str(text))\n",
    "    text = re.sub(r\"i'll\", \"I will\", str(text))\n",
    "    text = re.sub(r\"weren't\", \"were not\", str(text))\n",
    "    text = re.sub(r\"They're\", \"They are\", str(text))\n",
    "    text = re.sub(r\"let's\", \"let us\", str(text))\n",
    "    text = re.sub(r\"it's\", \"it is\", str(text))\n",
    "    text = re.sub(r\"can't\", \"cannot\", str(text))\n",
    "    text = re.sub(r\"don't\", \"do not\", str(text))\n",
    "    text = re.sub(r\"you're\", \"you are\", str(text))\n",
    "    text = re.sub(r\"i've\", \"I have\", str(text))\n",
    "    text = re.sub(r\"that's\", \"that is\", str(text))\n",
    "    text = re.sub(r\"i'll\", \"I will\", str(text))\n",
    "    text = re.sub(r\"doesn't\", \"does not\", str(text))\n",
    "    text = re.sub(r\"i'd\", \"I would\", str(text))\n",
    "    text = re.sub(r\"didn't\", \"did not\", str(text))\n",
    "    text = re.sub(r\"ain't\", \"am not\", str(text))\n",
    "    text = re.sub(r\"you'll\", \"you will\", str(text))\n",
    "    text = re.sub(r\"I've\", \"I have\", str(text))\n",
    "    text = re.sub(r\"Don't\", \"do not\", str(text))\n",
    "    text = re.sub(r\"I'll\", \"I will\", str(text))\n",
    "    text = re.sub(r\"I'd\", \"I would\", str(text))\n",
    "    text = re.sub(r\"Let's\", \"Let us\", str(text))\n",
    "    text = re.sub(r\"you'd\", \"You would\", str(text))\n",
    "    text = re.sub(r\"It's\", \"It is\", str(text))\n",
    "    text = re.sub(r\"Ain't\", \"am not\", str(text))\n",
    "    text = re.sub(r\"Haven't\", \"Have not\", str(text))\n",
    "    text = re.sub(r\"Could've\", \"Could have\", str(text))\n",
    "    text = re.sub(r\"youve\", \"you have\", str(text))\n",
    "\n",
    "    # Abbreviations\n",
    "    text = re.sub(\"U.S.\", \"United States\", str(text))\n",
    "    text = re.sub(\"Dec\", \"December\", str(text))\n",
    "    text = re.sub(\"Jan.\", \"January\", str(text))\n",
    "\n",
    "    # Typos, slang and informal abbreviations\n",
    "    text = re.sub(r\"w/e\", \"whatever\", str(text))\n",
    "    text = re.sub(r\"w/\", \"with\", str(text))\n",
    "    text = re.sub(r\"USAgov\", \"USA government\", str(text))\n",
    "    text = re.sub(r\"recentlu\", \"recently\", str(text))\n",
    "    text = re.sub(r\"Ph0tos\", \"Photos\", str(text))\n",
    "    text = re.sub(r\"amirite\", \"am I right\", str(text))\n",
    "    text = re.sub(r\"exp0sed\", \"exposed\", str(text))\n",
    "    text = re.sub(r\"<3\", \"love\", str(text))\n",
    "    text = re.sub(r\"amageddon\", \"armageddon\", str(text))\n",
    "    text = re.sub(r\"Trfc\", \"Traffic\", str(text))\n",
    "    text = re.sub(r\"WindStorm\", \"Wind Storm\", str(text))\n",
    "    text = re.sub(r\"TRAUMATISED\", \"traumatized\", str(text))\n",
    "\n",
    "    # Character entity references\n",
    "    text = re.sub(r\"&gt;\", \">\", str(text))\n",
    "    text = re.sub(r\"&lt;\", \"<\", str(text))\n",
    "    text = re.sub(r\"&amp;\", \"&\", str(text))\n",
    "\n",
    "    # Remove Urls\n",
    "    url = re.compile(r'https?://\\S+|www\\.\\S+')\n",
    "    text = url.sub(r'', text)\n",
    "\n",
    "    # Remove HTML tags\n",
    "    html = re.compile(r'<.*?>')\n",
    "    text = html.sub(r'', text)\n",
    "\n",
    "    # Remove emoticons, symbols, pictoraphs, transport and map symbols & flags\n",
    "    emoji_pattern = re.compile(\n",
    "        \"[\"\n",
    "        u\"\\U0001F600-\\U0001F64F\"\n",
    "        u\"\\U0001F300-\\U0001F5FF\"\n",
    "        u\"\\U0001F680-\\U0001F6FF\"\n",
    "        u\"\\U0001F1E0-\\U0001F1FF\"\n",
    "        u\"\\U00002702-\\U000027B0\"\n",
    "        u\"\\U000024C2-\\U0001F251\"\n",
    "        \"]+\",\n",
    "        flags=re.UNICODE)\n",
    "    text = emoji_pattern.sub(r'', text)\n",
    "\n",
    "    # Punctuations & special characters\n",
    "    text = re.sub(\"[^A-Za-z0-9]+\", \" \", str(text))\n",
    "\n",
    "    # Stop word removal\n",
    "    text = [str(i).lower() for i in text.split() if i.lower() not in stopwords]\n",
    "\n",
    "    # Stemming the words\n",
    "    text = [ps.stem(word) for word in text]\n",
    "\n",
    "    # Lemmatizing the words\n",
    "    text = [lm.lemmatize(word) for word in text]\n",
    "\n",
    "    # Joining back to a sentence\n",
    "    text = ' '.join(text)\n",
    "\n",
    "    return text"
   ]
  },
  {
   "cell_type": "code",
   "execution_count": 59,
   "metadata": {
    "ExecuteTime": {
     "end_time": "2021-04-23T07:30:00.549758Z",
     "start_time": "2021-04-23T07:24:04.171413Z"
    }
   },
   "outputs": [],
   "source": [
    "df['text'] = df['text'].map(lambda x: clean_text(x))"
   ]
  },
  {
   "cell_type": "code",
   "execution_count": 60,
   "metadata": {
    "ExecuteTime": {
     "end_time": "2021-04-23T07:30:01.333181Z",
     "start_time": "2021-04-23T07:30:01.318112Z"
    }
   },
   "outputs": [
    {
     "data": {
      "text/plain": [
       "0        unit state budget fight loom republican flip f...\n",
       "1        unit state militari accept transgend recruit m...\n",
       "2        senior unit state republican senat let mr muel...\n",
       "3        fbi russia probe help australian diplomat tip ...\n",
       "4        trump want postal servic charg much amazon shi...\n",
       "                               ...                        \n",
       "51228    state depart say cannot find email clinton spe...\n",
       "51229    p pb stand plutocrat pentagon p pb stand pluto...\n",
       "51230    anti trump protest tool oligarchi inform anti ...\n",
       "51231    ethiopia obama seek progress peac secur east a...\n",
       "51232    jeb bush suddenli attack trump matter jeb bush...\n",
       "Name: text, Length: 45410, dtype: object"
      ]
     },
     "execution_count": 60,
     "metadata": {},
     "output_type": "execute_result"
    }
   ],
   "source": [
    "df['text']"
   ]
  },
  {
   "cell_type": "markdown",
   "metadata": {},
   "source": [
    "## Exporting the cleaned dataset"
   ]
  },
  {
   "cell_type": "code",
   "execution_count": 61,
   "metadata": {
    "ExecuteTime": {
     "end_time": "2021-04-23T07:30:03.859793Z",
     "start_time": "2021-04-23T07:30:02.103542Z"
    }
   },
   "outputs": [],
   "source": [
    "df.to_csv('DataSet/clean_ds.csv', index=False, header=True)"
   ]
  },
  {
   "cell_type": "code",
   "execution_count": null,
   "metadata": {},
   "outputs": [],
   "source": []
  }
 ],
 "metadata": {
  "kernelspec": {
   "display_name": "Python 3",
   "language": "python",
   "name": "python3"
  },
  "toc": {
   "base_numbering": 1,
   "nav_menu": {},
   "number_sections": false,
   "sideBar": true,
   "skip_h1_title": false,
   "title_cell": "Table of Contents",
   "title_sidebar": "Contents",
   "toc_cell": false,
   "toc_position": {
    "height": "calc(100% - 180px)",
    "left": "10px",
    "top": "150px",
    "width": "261.809px"
   },
   "toc_section_display": true,
   "toc_window_display": false
  },
  "varInspector": {
   "cols": {
    "lenName": 16,
    "lenType": 16,
    "lenVar": 40
   },
   "kernels_config": {
    "python": {
     "delete_cmd_postfix": "",
     "delete_cmd_prefix": "del ",
     "library": "var_list.py",
     "varRefreshCmd": "print(var_dic_list())"
    },
    "r": {
     "delete_cmd_postfix": ") ",
     "delete_cmd_prefix": "rm(",
     "library": "var_list.r",
     "varRefreshCmd": "cat(var_dic_list()) "
    }
   },
   "types_to_exclude": [
    "module",
    "function",
    "builtin_function_or_method",
    "instance",
    "_Feature"
   ],
   "window_display": false
  }
 },
 "nbformat": 4,
 "nbformat_minor": 4
}
